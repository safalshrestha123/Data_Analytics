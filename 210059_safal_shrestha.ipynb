{
 "cells": [
  {
   "cell_type": "code",
   "execution_count": 55,
   "id": "c02811ff",
   "metadata": {},
   "outputs": [],
   "source": [
    "import pandas as pd\n",
    "import numpy as np\n",
    "import matplotlib.pyplot as plt\n",
    "%matplotlib inline\n",
    "import seaborn as sns"
   ]
  },
  {
   "cell_type": "code",
   "execution_count": 56,
   "id": "875ae753",
   "metadata": {},
   "outputs": [],
   "source": [
    "df= pd.read_csv('Placement_Data_Full_Class.csv')"
   ]
  },
  {
   "cell_type": "code",
   "execution_count": 57,
   "id": "41273a5d",
   "metadata": {},
   "outputs": [
    {
     "data": {
      "text/html": [
       "<div>\n",
       "<style scoped>\n",
       "    .dataframe tbody tr th:only-of-type {\n",
       "        vertical-align: middle;\n",
       "    }\n",
       "\n",
       "    .dataframe tbody tr th {\n",
       "        vertical-align: top;\n",
       "    }\n",
       "\n",
       "    .dataframe thead th {\n",
       "        text-align: right;\n",
       "    }\n",
       "</style>\n",
       "<table border=\"1\" class=\"dataframe\">\n",
       "  <thead>\n",
       "    <tr style=\"text-align: right;\">\n",
       "      <th></th>\n",
       "      <th>sl_no</th>\n",
       "      <th>gender</th>\n",
       "      <th>ssc_p</th>\n",
       "      <th>ssc_b</th>\n",
       "      <th>hsc_p</th>\n",
       "      <th>hsc_b</th>\n",
       "      <th>hsc_s</th>\n",
       "      <th>degree_p</th>\n",
       "      <th>degree_t</th>\n",
       "      <th>workex</th>\n",
       "      <th>etest_p</th>\n",
       "      <th>specialisation</th>\n",
       "      <th>mba_p</th>\n",
       "      <th>status</th>\n",
       "      <th>salary</th>\n",
       "    </tr>\n",
       "  </thead>\n",
       "  <tbody>\n",
       "    <tr>\n",
       "      <th>0</th>\n",
       "      <td>1</td>\n",
       "      <td>M</td>\n",
       "      <td>67.00</td>\n",
       "      <td>Others</td>\n",
       "      <td>91.00</td>\n",
       "      <td>Others</td>\n",
       "      <td>Commerce</td>\n",
       "      <td>58.00</td>\n",
       "      <td>Sci&amp;Tech</td>\n",
       "      <td>No</td>\n",
       "      <td>55.0</td>\n",
       "      <td>Mkt&amp;HR</td>\n",
       "      <td>58.80</td>\n",
       "      <td>Placed</td>\n",
       "      <td>270000.0</td>\n",
       "    </tr>\n",
       "    <tr>\n",
       "      <th>1</th>\n",
       "      <td>2</td>\n",
       "      <td>M</td>\n",
       "      <td>79.33</td>\n",
       "      <td>Central</td>\n",
       "      <td>78.33</td>\n",
       "      <td>Others</td>\n",
       "      <td>Science</td>\n",
       "      <td>77.48</td>\n",
       "      <td>Sci&amp;Tech</td>\n",
       "      <td>Yes</td>\n",
       "      <td>86.5</td>\n",
       "      <td>Mkt&amp;Fin</td>\n",
       "      <td>66.28</td>\n",
       "      <td>Placed</td>\n",
       "      <td>200000.0</td>\n",
       "    </tr>\n",
       "    <tr>\n",
       "      <th>2</th>\n",
       "      <td>3</td>\n",
       "      <td>M</td>\n",
       "      <td>65.00</td>\n",
       "      <td>Central</td>\n",
       "      <td>68.00</td>\n",
       "      <td>Central</td>\n",
       "      <td>Arts</td>\n",
       "      <td>64.00</td>\n",
       "      <td>Comm&amp;Mgmt</td>\n",
       "      <td>No</td>\n",
       "      <td>75.0</td>\n",
       "      <td>Mkt&amp;Fin</td>\n",
       "      <td>57.80</td>\n",
       "      <td>Placed</td>\n",
       "      <td>250000.0</td>\n",
       "    </tr>\n",
       "    <tr>\n",
       "      <th>3</th>\n",
       "      <td>4</td>\n",
       "      <td>M</td>\n",
       "      <td>56.00</td>\n",
       "      <td>Central</td>\n",
       "      <td>52.00</td>\n",
       "      <td>Central</td>\n",
       "      <td>Science</td>\n",
       "      <td>52.00</td>\n",
       "      <td>Sci&amp;Tech</td>\n",
       "      <td>No</td>\n",
       "      <td>66.0</td>\n",
       "      <td>Mkt&amp;HR</td>\n",
       "      <td>59.43</td>\n",
       "      <td>Not Placed</td>\n",
       "      <td>NaN</td>\n",
       "    </tr>\n",
       "    <tr>\n",
       "      <th>4</th>\n",
       "      <td>5</td>\n",
       "      <td>M</td>\n",
       "      <td>85.80</td>\n",
       "      <td>Central</td>\n",
       "      <td>73.60</td>\n",
       "      <td>Central</td>\n",
       "      <td>Commerce</td>\n",
       "      <td>73.30</td>\n",
       "      <td>Comm&amp;Mgmt</td>\n",
       "      <td>No</td>\n",
       "      <td>96.8</td>\n",
       "      <td>Mkt&amp;Fin</td>\n",
       "      <td>55.50</td>\n",
       "      <td>Placed</td>\n",
       "      <td>425000.0</td>\n",
       "    </tr>\n",
       "    <tr>\n",
       "      <th>...</th>\n",
       "      <td>...</td>\n",
       "      <td>...</td>\n",
       "      <td>...</td>\n",
       "      <td>...</td>\n",
       "      <td>...</td>\n",
       "      <td>...</td>\n",
       "      <td>...</td>\n",
       "      <td>...</td>\n",
       "      <td>...</td>\n",
       "      <td>...</td>\n",
       "      <td>...</td>\n",
       "      <td>...</td>\n",
       "      <td>...</td>\n",
       "      <td>...</td>\n",
       "      <td>...</td>\n",
       "    </tr>\n",
       "    <tr>\n",
       "      <th>210</th>\n",
       "      <td>211</td>\n",
       "      <td>M</td>\n",
       "      <td>80.60</td>\n",
       "      <td>Others</td>\n",
       "      <td>82.00</td>\n",
       "      <td>Others</td>\n",
       "      <td>Commerce</td>\n",
       "      <td>77.60</td>\n",
       "      <td>Comm&amp;Mgmt</td>\n",
       "      <td>No</td>\n",
       "      <td>91.0</td>\n",
       "      <td>Mkt&amp;Fin</td>\n",
       "      <td>74.49</td>\n",
       "      <td>Placed</td>\n",
       "      <td>400000.0</td>\n",
       "    </tr>\n",
       "    <tr>\n",
       "      <th>211</th>\n",
       "      <td>212</td>\n",
       "      <td>M</td>\n",
       "      <td>58.00</td>\n",
       "      <td>Others</td>\n",
       "      <td>60.00</td>\n",
       "      <td>Others</td>\n",
       "      <td>Science</td>\n",
       "      <td>72.00</td>\n",
       "      <td>Sci&amp;Tech</td>\n",
       "      <td>No</td>\n",
       "      <td>74.0</td>\n",
       "      <td>Mkt&amp;Fin</td>\n",
       "      <td>53.62</td>\n",
       "      <td>Placed</td>\n",
       "      <td>275000.0</td>\n",
       "    </tr>\n",
       "    <tr>\n",
       "      <th>212</th>\n",
       "      <td>213</td>\n",
       "      <td>M</td>\n",
       "      <td>67.00</td>\n",
       "      <td>Others</td>\n",
       "      <td>67.00</td>\n",
       "      <td>Others</td>\n",
       "      <td>Commerce</td>\n",
       "      <td>73.00</td>\n",
       "      <td>Comm&amp;Mgmt</td>\n",
       "      <td>Yes</td>\n",
       "      <td>59.0</td>\n",
       "      <td>Mkt&amp;Fin</td>\n",
       "      <td>69.72</td>\n",
       "      <td>Placed</td>\n",
       "      <td>295000.0</td>\n",
       "    </tr>\n",
       "    <tr>\n",
       "      <th>213</th>\n",
       "      <td>214</td>\n",
       "      <td>F</td>\n",
       "      <td>74.00</td>\n",
       "      <td>Others</td>\n",
       "      <td>66.00</td>\n",
       "      <td>Others</td>\n",
       "      <td>Commerce</td>\n",
       "      <td>58.00</td>\n",
       "      <td>Comm&amp;Mgmt</td>\n",
       "      <td>No</td>\n",
       "      <td>70.0</td>\n",
       "      <td>Mkt&amp;HR</td>\n",
       "      <td>60.23</td>\n",
       "      <td>Placed</td>\n",
       "      <td>204000.0</td>\n",
       "    </tr>\n",
       "    <tr>\n",
       "      <th>214</th>\n",
       "      <td>215</td>\n",
       "      <td>M</td>\n",
       "      <td>62.00</td>\n",
       "      <td>Central</td>\n",
       "      <td>58.00</td>\n",
       "      <td>Others</td>\n",
       "      <td>Science</td>\n",
       "      <td>53.00</td>\n",
       "      <td>Comm&amp;Mgmt</td>\n",
       "      <td>No</td>\n",
       "      <td>89.0</td>\n",
       "      <td>Mkt&amp;HR</td>\n",
       "      <td>60.22</td>\n",
       "      <td>Not Placed</td>\n",
       "      <td>NaN</td>\n",
       "    </tr>\n",
       "  </tbody>\n",
       "</table>\n",
       "<p>215 rows × 15 columns</p>\n",
       "</div>"
      ],
      "text/plain": [
       "     sl_no gender  ssc_p    ssc_b  hsc_p    hsc_b     hsc_s  degree_p  \\\n",
       "0        1      M  67.00   Others  91.00   Others  Commerce     58.00   \n",
       "1        2      M  79.33  Central  78.33   Others   Science     77.48   \n",
       "2        3      M  65.00  Central  68.00  Central      Arts     64.00   \n",
       "3        4      M  56.00  Central  52.00  Central   Science     52.00   \n",
       "4        5      M  85.80  Central  73.60  Central  Commerce     73.30   \n",
       "..     ...    ...    ...      ...    ...      ...       ...       ...   \n",
       "210    211      M  80.60   Others  82.00   Others  Commerce     77.60   \n",
       "211    212      M  58.00   Others  60.00   Others   Science     72.00   \n",
       "212    213      M  67.00   Others  67.00   Others  Commerce     73.00   \n",
       "213    214      F  74.00   Others  66.00   Others  Commerce     58.00   \n",
       "214    215      M  62.00  Central  58.00   Others   Science     53.00   \n",
       "\n",
       "      degree_t workex  etest_p specialisation  mba_p      status    salary  \n",
       "0     Sci&Tech     No     55.0         Mkt&HR  58.80      Placed  270000.0  \n",
       "1     Sci&Tech    Yes     86.5        Mkt&Fin  66.28      Placed  200000.0  \n",
       "2    Comm&Mgmt     No     75.0        Mkt&Fin  57.80      Placed  250000.0  \n",
       "3     Sci&Tech     No     66.0         Mkt&HR  59.43  Not Placed       NaN  \n",
       "4    Comm&Mgmt     No     96.8        Mkt&Fin  55.50      Placed  425000.0  \n",
       "..         ...    ...      ...            ...    ...         ...       ...  \n",
       "210  Comm&Mgmt     No     91.0        Mkt&Fin  74.49      Placed  400000.0  \n",
       "211   Sci&Tech     No     74.0        Mkt&Fin  53.62      Placed  275000.0  \n",
       "212  Comm&Mgmt    Yes     59.0        Mkt&Fin  69.72      Placed  295000.0  \n",
       "213  Comm&Mgmt     No     70.0         Mkt&HR  60.23      Placed  204000.0  \n",
       "214  Comm&Mgmt     No     89.0         Mkt&HR  60.22  Not Placed       NaN  \n",
       "\n",
       "[215 rows x 15 columns]"
      ]
     },
     "execution_count": 57,
     "metadata": {},
     "output_type": "execute_result"
    }
   ],
   "source": [
    "df"
   ]
  },
  {
   "cell_type": "markdown",
   "id": "05f65006",
   "metadata": {},
   "source": [
    "## Summarize the dataset before cleaning"
   ]
  },
  {
   "cell_type": "markdown",
   "id": "16e0b984",
   "metadata": {},
   "source": [
    "#### Checking the shape of data frame"
   ]
  },
  {
   "cell_type": "code",
   "execution_count": 58,
   "id": "029ecd06",
   "metadata": {},
   "outputs": [
    {
     "data": {
      "text/plain": [
       "(215, 15)"
      ]
     },
     "execution_count": 58,
     "metadata": {},
     "output_type": "execute_result"
    }
   ],
   "source": [
    "df.shape"
   ]
  },
  {
   "cell_type": "markdown",
   "id": "537a1971",
   "metadata": {},
   "source": [
    "#### Checking basic info of dataframe"
   ]
  },
  {
   "cell_type": "code",
   "execution_count": 59,
   "id": "f9bc7ca0",
   "metadata": {},
   "outputs": [
    {
     "name": "stdout",
     "output_type": "stream",
     "text": [
      "<class 'pandas.core.frame.DataFrame'>\n",
      "RangeIndex: 215 entries, 0 to 214\n",
      "Data columns (total 15 columns):\n",
      " #   Column          Non-Null Count  Dtype  \n",
      "---  ------          --------------  -----  \n",
      " 0   sl_no           215 non-null    int64  \n",
      " 1   gender          215 non-null    object \n",
      " 2   ssc_p           215 non-null    float64\n",
      " 3   ssc_b           215 non-null    object \n",
      " 4   hsc_p           215 non-null    float64\n",
      " 5   hsc_b           215 non-null    object \n",
      " 6   hsc_s           215 non-null    object \n",
      " 7   degree_p        215 non-null    float64\n",
      " 8   degree_t        215 non-null    object \n",
      " 9   workex          215 non-null    object \n",
      " 10  etest_p         215 non-null    float64\n",
      " 11  specialisation  215 non-null    object \n",
      " 12  mba_p           215 non-null    float64\n",
      " 13  status          215 non-null    object \n",
      " 14  salary          148 non-null    float64\n",
      "dtypes: float64(6), int64(1), object(8)\n",
      "memory usage: 25.3+ KB\n"
     ]
    }
   ],
   "source": [
    "df.info()"
   ]
  },
  {
   "cell_type": "markdown",
   "id": "9000e1cf",
   "metadata": {},
   "source": [
    "#### Summarizing categorical variable"
   ]
  },
  {
   "cell_type": "code",
   "execution_count": 60,
   "id": "5dd271c1",
   "metadata": {},
   "outputs": [
    {
     "data": {
      "text/html": [
       "<div>\n",
       "<style scoped>\n",
       "    .dataframe tbody tr th:only-of-type {\n",
       "        vertical-align: middle;\n",
       "    }\n",
       "\n",
       "    .dataframe tbody tr th {\n",
       "        vertical-align: top;\n",
       "    }\n",
       "\n",
       "    .dataframe thead th {\n",
       "        text-align: right;\n",
       "    }\n",
       "</style>\n",
       "<table border=\"1\" class=\"dataframe\">\n",
       "  <thead>\n",
       "    <tr style=\"text-align: right;\">\n",
       "      <th></th>\n",
       "      <th>gender</th>\n",
       "      <th>ssc_b</th>\n",
       "      <th>hsc_b</th>\n",
       "      <th>hsc_s</th>\n",
       "      <th>degree_t</th>\n",
       "      <th>workex</th>\n",
       "      <th>specialisation</th>\n",
       "      <th>status</th>\n",
       "    </tr>\n",
       "  </thead>\n",
       "  <tbody>\n",
       "    <tr>\n",
       "      <th>count</th>\n",
       "      <td>215</td>\n",
       "      <td>215</td>\n",
       "      <td>215</td>\n",
       "      <td>215</td>\n",
       "      <td>215</td>\n",
       "      <td>215</td>\n",
       "      <td>215</td>\n",
       "      <td>215</td>\n",
       "    </tr>\n",
       "    <tr>\n",
       "      <th>unique</th>\n",
       "      <td>2</td>\n",
       "      <td>2</td>\n",
       "      <td>2</td>\n",
       "      <td>3</td>\n",
       "      <td>3</td>\n",
       "      <td>2</td>\n",
       "      <td>2</td>\n",
       "      <td>2</td>\n",
       "    </tr>\n",
       "    <tr>\n",
       "      <th>top</th>\n",
       "      <td>M</td>\n",
       "      <td>Central</td>\n",
       "      <td>Others</td>\n",
       "      <td>Commerce</td>\n",
       "      <td>Comm&amp;Mgmt</td>\n",
       "      <td>No</td>\n",
       "      <td>Mkt&amp;Fin</td>\n",
       "      <td>Placed</td>\n",
       "    </tr>\n",
       "    <tr>\n",
       "      <th>freq</th>\n",
       "      <td>139</td>\n",
       "      <td>116</td>\n",
       "      <td>131</td>\n",
       "      <td>113</td>\n",
       "      <td>145</td>\n",
       "      <td>141</td>\n",
       "      <td>120</td>\n",
       "      <td>148</td>\n",
       "    </tr>\n",
       "  </tbody>\n",
       "</table>\n",
       "</div>"
      ],
      "text/plain": [
       "       gender    ssc_b   hsc_b     hsc_s   degree_t workex specialisation  \\\n",
       "count     215      215     215       215        215    215            215   \n",
       "unique      2        2       2         3          3      2              2   \n",
       "top         M  Central  Others  Commerce  Comm&Mgmt     No        Mkt&Fin   \n",
       "freq      139      116     131       113        145    141            120   \n",
       "\n",
       "        status  \n",
       "count      215  \n",
       "unique       2  \n",
       "top     Placed  \n",
       "freq       148  "
      ]
     },
     "execution_count": 60,
     "metadata": {},
     "output_type": "execute_result"
    }
   ],
   "source": [
    "categorical_vars = df.select_dtypes(include='object')\n",
    "categorical_vars.describe()"
   ]
  },
  {
   "cell_type": "markdown",
   "id": "5fe5473b",
   "metadata": {},
   "source": [
    "#### Summarizing Numerical variable"
   ]
  },
  {
   "cell_type": "code",
   "execution_count": 61,
   "id": "272fe883",
   "metadata": {},
   "outputs": [
    {
     "data": {
      "text/html": [
       "<div>\n",
       "<style scoped>\n",
       "    .dataframe tbody tr th:only-of-type {\n",
       "        vertical-align: middle;\n",
       "    }\n",
       "\n",
       "    .dataframe tbody tr th {\n",
       "        vertical-align: top;\n",
       "    }\n",
       "\n",
       "    .dataframe thead th {\n",
       "        text-align: right;\n",
       "    }\n",
       "</style>\n",
       "<table border=\"1\" class=\"dataframe\">\n",
       "  <thead>\n",
       "    <tr style=\"text-align: right;\">\n",
       "      <th></th>\n",
       "      <th>sl_no</th>\n",
       "      <th>ssc_p</th>\n",
       "      <th>hsc_p</th>\n",
       "      <th>degree_p</th>\n",
       "      <th>etest_p</th>\n",
       "      <th>mba_p</th>\n",
       "      <th>salary</th>\n",
       "    </tr>\n",
       "  </thead>\n",
       "  <tbody>\n",
       "    <tr>\n",
       "      <th>count</th>\n",
       "      <td>215.000000</td>\n",
       "      <td>215.000000</td>\n",
       "      <td>215.000000</td>\n",
       "      <td>215.000000</td>\n",
       "      <td>215.000000</td>\n",
       "      <td>215.000000</td>\n",
       "      <td>148.000000</td>\n",
       "    </tr>\n",
       "    <tr>\n",
       "      <th>mean</th>\n",
       "      <td>108.000000</td>\n",
       "      <td>67.303395</td>\n",
       "      <td>66.333163</td>\n",
       "      <td>66.370186</td>\n",
       "      <td>72.100558</td>\n",
       "      <td>62.278186</td>\n",
       "      <td>288655.405405</td>\n",
       "    </tr>\n",
       "    <tr>\n",
       "      <th>std</th>\n",
       "      <td>62.209324</td>\n",
       "      <td>10.827205</td>\n",
       "      <td>10.897509</td>\n",
       "      <td>7.358743</td>\n",
       "      <td>13.275956</td>\n",
       "      <td>5.833385</td>\n",
       "      <td>93457.452420</td>\n",
       "    </tr>\n",
       "    <tr>\n",
       "      <th>min</th>\n",
       "      <td>1.000000</td>\n",
       "      <td>40.890000</td>\n",
       "      <td>37.000000</td>\n",
       "      <td>50.000000</td>\n",
       "      <td>50.000000</td>\n",
       "      <td>51.210000</td>\n",
       "      <td>200000.000000</td>\n",
       "    </tr>\n",
       "    <tr>\n",
       "      <th>25%</th>\n",
       "      <td>54.500000</td>\n",
       "      <td>60.600000</td>\n",
       "      <td>60.900000</td>\n",
       "      <td>61.000000</td>\n",
       "      <td>60.000000</td>\n",
       "      <td>57.945000</td>\n",
       "      <td>240000.000000</td>\n",
       "    </tr>\n",
       "    <tr>\n",
       "      <th>50%</th>\n",
       "      <td>108.000000</td>\n",
       "      <td>67.000000</td>\n",
       "      <td>65.000000</td>\n",
       "      <td>66.000000</td>\n",
       "      <td>71.000000</td>\n",
       "      <td>62.000000</td>\n",
       "      <td>265000.000000</td>\n",
       "    </tr>\n",
       "    <tr>\n",
       "      <th>75%</th>\n",
       "      <td>161.500000</td>\n",
       "      <td>75.700000</td>\n",
       "      <td>73.000000</td>\n",
       "      <td>72.000000</td>\n",
       "      <td>83.500000</td>\n",
       "      <td>66.255000</td>\n",
       "      <td>300000.000000</td>\n",
       "    </tr>\n",
       "    <tr>\n",
       "      <th>max</th>\n",
       "      <td>215.000000</td>\n",
       "      <td>89.400000</td>\n",
       "      <td>97.700000</td>\n",
       "      <td>91.000000</td>\n",
       "      <td>98.000000</td>\n",
       "      <td>77.890000</td>\n",
       "      <td>940000.000000</td>\n",
       "    </tr>\n",
       "  </tbody>\n",
       "</table>\n",
       "</div>"
      ],
      "text/plain": [
       "            sl_no       ssc_p       hsc_p    degree_p     etest_p       mba_p  \\\n",
       "count  215.000000  215.000000  215.000000  215.000000  215.000000  215.000000   \n",
       "mean   108.000000   67.303395   66.333163   66.370186   72.100558   62.278186   \n",
       "std     62.209324   10.827205   10.897509    7.358743   13.275956    5.833385   \n",
       "min      1.000000   40.890000   37.000000   50.000000   50.000000   51.210000   \n",
       "25%     54.500000   60.600000   60.900000   61.000000   60.000000   57.945000   \n",
       "50%    108.000000   67.000000   65.000000   66.000000   71.000000   62.000000   \n",
       "75%    161.500000   75.700000   73.000000   72.000000   83.500000   66.255000   \n",
       "max    215.000000   89.400000   97.700000   91.000000   98.000000   77.890000   \n",
       "\n",
       "              salary  \n",
       "count     148.000000  \n",
       "mean   288655.405405  \n",
       "std     93457.452420  \n",
       "min    200000.000000  \n",
       "25%    240000.000000  \n",
       "50%    265000.000000  \n",
       "75%    300000.000000  \n",
       "max    940000.000000  "
      ]
     },
     "execution_count": 61,
     "metadata": {},
     "output_type": "execute_result"
    }
   ],
   "source": [
    "df.describe()"
   ]
  },
  {
   "cell_type": "markdown",
   "id": "44f7232d",
   "metadata": {},
   "source": [
    "## EDA"
   ]
  },
  {
   "cell_type": "markdown",
   "id": "46406abd",
   "metadata": {},
   "source": [
    "#### Checking proportion of data in modules of hsc_s"
   ]
  },
  {
   "cell_type": "code",
   "execution_count": 62,
   "id": "41ee249f",
   "metadata": {
    "scrolled": true
   },
   "outputs": [
    {
     "data": {
      "image/png": "[encoded data removed]",
      "text/plain": [
       "<Figure size 360x360 with 1 Axes>"
      ]
     },
     "metadata": {},
     "output_type": "display_data"
    }
   ],
   "source": [
    "df_sym = pd.DataFrame(df['hsc_s'].value_counts())\n",
    "df_sym.plot.pie(subplots=True,\n",
    "autopct='%1.1f%%', \n",
    "figsize = (5,5))\n",
    "plt.show()"
   ]
  },
  {
   "cell_type": "markdown",
   "id": "68b83dd0",
   "metadata": {},
   "source": [
    "In this data, there is 52.6% of student in commerce, 5.1% student in arts and other 42.3% of student in Science."
   ]
  },
  {
   "cell_type": "markdown",
   "id": "c71aa117",
   "metadata": {},
   "source": [
    "#### Determining the distribution of gender within the data set by calculating the ratio of Male to Female representation."
   ]
  },
  {
   "cell_type": "code",
   "execution_count": 63,
   "id": "1755d150",
   "metadata": {},
   "outputs": [
    {
     "data": {
      "text/plain": [
       "<AxesSubplot:ylabel='gender'>"
      ]
     },
     "execution_count": 63,
     "metadata": {},
     "output_type": "execute_result"
    },
    {
     "data": {
      "image/png": "[encoded data removed]",
      "text/plain": [
       "<Figure size 432x288 with 1 Axes>"
      ]
     },
     "metadata": {},
     "output_type": "display_data"
    }
   ],
   "source": [
    "df['gender'].value_counts().plot(kind ='pie',\n",
    "autopct = '%.2f',explode=[0.05,0])"
   ]
  },
  {
   "cell_type": "markdown",
   "id": "63767a05",
   "metadata": {},
   "source": [
    "The male population in the dataset constitutes 64.65%, while the female population accounts for 35.35%."
   ]
  },
  {
   "cell_type": "code",
   "execution_count": 64,
   "id": "746871c9",
   "metadata": {},
   "outputs": [
    {
     "data": {
      "text/plain": [
       "<AxesSubplot:xlabel='gender', ylabel='count'>"
      ]
     },
     "execution_count": 64,
     "metadata": {},
     "output_type": "execute_result"
    },
    {
     "data": {
      "image/png": "[encoded data removed]",
      "text/plain": [
       "<Figure size 432x288 with 1 Axes>"
      ]
     },
     "metadata": {
      "needs_background": "light"
     },
     "output_type": "display_data"
    }
   ],
   "source": [
    "sns.countplot(data = df, x = 'gender')"
   ]
  },
  {
   "cell_type": "markdown",
   "id": "86be56b5",
   "metadata": {},
   "source": [
    "**Gender proportion**\n",
    "\n",
    "* Male = 65%\n",
    "* Female = 35%\n",
    "\n",
    "The number of records for male students in the dataset is nearly double the number of records for female students."
   ]
  },
  {
   "cell_type": "markdown",
   "id": "e967bb61",
   "metadata": {},
   "source": [
    "#### Analyzing the student distribution among undergraduate degree programs."
   ]
  },
  {
   "cell_type": "code",
   "execution_count": 65,
   "id": "6b6cf6df",
   "metadata": {
    "scrolled": true
   },
   "outputs": [
    {
     "data": {
      "text/plain": [
       "<AxesSubplot:ylabel='degree_t'>"
      ]
     },
     "execution_count": 65,
     "metadata": {},
     "output_type": "execute_result"
    },
    {
     "data": {
      "image/png": "[encoded data removed]",
      "text/plain": [
       "<Figure size 432x288 with 1 Axes>"
      ]
     },
     "metadata": {},
     "output_type": "display_data"
    }
   ],
   "source": [
    "df['degree_t'].value_counts().plot(kind ='pie',\n",
    "autopct = '%.2f',explode=[0.05, 0.05, 0.05])"
   ]
  },
  {
   "cell_type": "markdown",
   "id": "46df8cf4",
   "metadata": {},
   "source": [
    "**Student distribution Comm&Mgmt, Sci&Tech and others in under graduate degree**\n",
    "\n",
    "* Commerce and Management = 67.44%\n",
    "* Science and Technology = 27.44%\n",
    "* Others = 5.12%"
   ]
  },
  {
   "cell_type": "markdown",
   "id": "b1c1bf59",
   "metadata": {},
   "source": [
    "#### Checking the spread of students based on gender in the three streams of the 12th grade (hsc_s)."
   ]
  },
  {
   "cell_type": "code",
   "execution_count": 66,
   "id": "997c8e53",
   "metadata": {
    "scrolled": true
   },
   "outputs": [
    {
     "data": {
      "text/plain": [
       "<AxesSubplot:xlabel='count', ylabel='hsc_s'>"
      ]
     },
     "execution_count": 66,
     "metadata": {},
     "output_type": "execute_result"
    },
    {
     "data": {
      "image/png": "[encoded data removed]",
      "text/plain": [
       "<Figure size 432x288 with 1 Axes>"
      ]
     },
     "metadata": {
      "needs_background": "light"
     },
     "output_type": "display_data"
    }
   ],
   "source": [
    "sns.countplot(y = 'hsc_s',hue = df['gender'], palette = \"Set1\", data =df)"
   ]
  },
  {
   "cell_type": "markdown",
   "id": "088d14d9",
   "metadata": {},
   "source": [
    "**Distribution by gender in 3 streams in 12th Grade**\n",
    "\n",
    "\n",
    "* The number of male students in Commerce is almost double that of female students. \n",
    "* The number of male students in Science is twice that of female students.\n",
    "* Although female students in Arts outnumber male students, the difference is not significant."
   ]
  },
  {
   "cell_type": "markdown",
   "id": "1df97ef2",
   "metadata": {},
   "source": [
    "## Data Cleaning"
   ]
  },
  {
   "cell_type": "markdown",
   "id": "40b3d824",
   "metadata": {},
   "source": [
    "#### Dropping sl_no column because it is indexing column"
   ]
  },
  {
   "cell_type": "code",
   "execution_count": 67,
   "id": "849edbca",
   "metadata": {},
   "outputs": [],
   "source": [
    "df= df.drop(columns= ['sl_no'])"
   ]
  },
  {
   "cell_type": "markdown",
   "id": "0d781486",
   "metadata": {},
   "source": [
    "#### Checking null values\n"
   ]
  },
  {
   "cell_type": "code",
   "execution_count": 68,
   "id": "fe1e469c",
   "metadata": {},
   "outputs": [
    {
     "data": {
      "text/plain": [
       "gender             0\n",
       "ssc_p              0\n",
       "ssc_b              0\n",
       "hsc_p              0\n",
       "hsc_b              0\n",
       "hsc_s              0\n",
       "degree_p           0\n",
       "degree_t           0\n",
       "workex             0\n",
       "etest_p            0\n",
       "specialisation     0\n",
       "mba_p              0\n",
       "status             0\n",
       "salary            67\n",
       "dtype: int64"
      ]
     },
     "execution_count": 68,
     "metadata": {},
     "output_type": "execute_result"
    }
   ],
   "source": [
    "df.isna().sum()"
   ]
  },
  {
   "cell_type": "markdown",
   "id": "072701aa",
   "metadata": {},
   "source": [
    "only salary column has 67 null rows"
   ]
  },
  {
   "cell_type": "markdown",
   "id": "d84f3863",
   "metadata": {},
   "source": [
    "#### Filling null values of salary column"
   ]
  },
  {
   "cell_type": "code",
   "execution_count": 69,
   "id": "90985104",
   "metadata": {},
   "outputs": [],
   "source": [
    "df['salary'].fillna(0, inplace=True)"
   ]
  },
  {
   "cell_type": "code",
   "execution_count": 70,
   "id": "3304d9d0",
   "metadata": {},
   "outputs": [
    {
     "data": {
      "text/plain": [
       "0"
      ]
     },
     "execution_count": 70,
     "metadata": {},
     "output_type": "execute_result"
    }
   ],
   "source": [
    "df['salary'].isna().sum()"
   ]
  },
  {
   "cell_type": "markdown",
   "id": "a343b08e",
   "metadata": {},
   "source": [
    "Filling null values of salary column with 0 as the rows with null values are of people who are not placed in jobs\n"
   ]
  },
  {
   "cell_type": "markdown",
   "id": "965c752a",
   "metadata": {},
   "source": [
    "#### Checking Data Type"
   ]
  },
  {
   "cell_type": "code",
   "execution_count": 71,
   "id": "e182f4e1",
   "metadata": {},
   "outputs": [
    {
     "data": {
      "text/plain": [
       "gender             object\n",
       "ssc_p             float64\n",
       "ssc_b              object\n",
       "hsc_p             float64\n",
       "hsc_b              object\n",
       "hsc_s              object\n",
       "degree_p          float64\n",
       "degree_t           object\n",
       "workex             object\n",
       "etest_p           float64\n",
       "specialisation     object\n",
       "mba_p             float64\n",
       "status             object\n",
       "salary            float64\n",
       "dtype: object"
      ]
     },
     "execution_count": 71,
     "metadata": {},
     "output_type": "execute_result"
    }
   ],
   "source": [
    "df.dtypes"
   ]
  },
  {
   "cell_type": "markdown",
   "id": "6ec3b351",
   "metadata": {},
   "source": [
    "All the variables have correct data type. However, 'workex' and 'status' variable's value can be changed to 0 and 1."
   ]
  },
  {
   "cell_type": "markdown",
   "id": "abf8657a",
   "metadata": {},
   "source": [
    "#### Changing workex and status values to 0 and 1"
   ]
  },
  {
   "cell_type": "code",
   "execution_count": 72,
   "id": "3de3f7d7",
   "metadata": {},
   "outputs": [],
   "source": [
    "df['workex'].replace(['Yes' , 'No'],[1,0], inplace = True)\n",
    "df['status'].replace(['Placed' , 'Not Placed'],[1,0], inplace = True)\n"
   ]
  },
  {
   "cell_type": "code",
   "execution_count": 73,
   "id": "0ef51998",
   "metadata": {},
   "outputs": [
    {
     "data": {
      "text/plain": [
       "0      0\n",
       "1      1\n",
       "2      0\n",
       "3      0\n",
       "4      0\n",
       "      ..\n",
       "210    0\n",
       "211    0\n",
       "212    1\n",
       "213    0\n",
       "214    0\n",
       "Name: workex, Length: 215, dtype: int64"
      ]
     },
     "execution_count": 73,
     "metadata": {},
     "output_type": "execute_result"
    }
   ],
   "source": [
    "df['workex']\n"
   ]
  },
  {
   "cell_type": "code",
   "execution_count": 74,
   "id": "29e6ab17",
   "metadata": {},
   "outputs": [
    {
     "data": {
      "text/plain": [
       "0      1\n",
       "1      1\n",
       "2      1\n",
       "3      0\n",
       "4      1\n",
       "      ..\n",
       "210    1\n",
       "211    1\n",
       "212    1\n",
       "213    1\n",
       "214    0\n",
       "Name: status, Length: 215, dtype: int64"
      ]
     },
     "execution_count": 74,
     "metadata": {},
     "output_type": "execute_result"
    }
   ],
   "source": [
    "df['status']"
   ]
  },
  {
   "cell_type": "code",
   "execution_count": 75,
   "id": "46d07234",
   "metadata": {},
   "outputs": [],
   "source": [
    "df['workex'] = df['workex'].astype(bool)\n",
    "df['status'] = df['status'].astype(bool)"
   ]
  },
  {
   "cell_type": "code",
   "execution_count": 76,
   "id": "b3a8cb87",
   "metadata": {},
   "outputs": [
    {
     "data": {
      "text/plain": [
       "gender             object\n",
       "ssc_p             float64\n",
       "ssc_b              object\n",
       "hsc_p             float64\n",
       "hsc_b              object\n",
       "hsc_s              object\n",
       "degree_p          float64\n",
       "degree_t           object\n",
       "workex               bool\n",
       "etest_p           float64\n",
       "specialisation     object\n",
       "mba_p             float64\n",
       "status               bool\n",
       "salary            float64\n",
       "dtype: object"
      ]
     },
     "execution_count": 76,
     "metadata": {},
     "output_type": "execute_result"
    }
   ],
   "source": [
    "df.dtypes"
   ]
  },
  {
   "cell_type": "markdown",
   "id": "1fdbae8d",
   "metadata": {},
   "source": [
    "#### Removing outliers in salary column"
   ]
  },
  {
   "cell_type": "code",
   "execution_count": 77,
   "id": "2d08df3e",
   "metadata": {},
   "outputs": [],
   "source": [
    "Q1 = df['salary'].quantile(0.25)\n",
    "Q3 = df['salary'].quantile(0.75)\n",
    "IQR = Q3 - Q1\n",
    "filter = (df['salary'] >= Q1 - 1.5 * IQR) & (df['salary'] <= Q3 + 1.5 *IQR)\n",
    "df_filtered=df.loc[filter]\n"
   ]
  },
  {
   "cell_type": "code",
   "execution_count": 78,
   "id": "6a8ec319",
   "metadata": {},
   "outputs": [
    {
     "data": {
      "text/plain": [
       "Text(0.5, 1.0, 'After removing outliers(salary)')"
      ]
     },
     "execution_count": 78,
     "metadata": {},
     "output_type": "execute_result"
    },
    {
     "data": {
      "image/png": "[encoded data removed]",
      "text/plain": [
       "<Figure size 1080x360 with 2 Axes>"
      ]
     },
     "metadata": {
      "needs_background": "light"
     },
     "output_type": "display_data"
    }
   ],
   "source": [
    "plt.figure(figsize = (15, 5))\n",
    "plt.style.use('seaborn-white')\n",
    "ax=plt.subplot(121)\n",
    "plt.boxplot(df['salary'])\n",
    "ax.set_title('Before removing outliers(salary)')\n",
    "\n",
    "ax=plt.subplot(122)\n",
    "plt.boxplot(df_filtered['salary'])\n",
    "ax.set_title('After removing outliers(salary)')\n"
   ]
  },
  {
   "cell_type": "code",
   "execution_count": 79,
   "id": "88d0e23d",
   "metadata": {},
   "outputs": [
    {
     "data": {
      "text/plain": [
       "<AxesSubplot:>"
      ]
     },
     "execution_count": 79,
     "metadata": {},
     "output_type": "execute_result"
    },
    {
     "data": {
      "image/png": "[encoded data removed]",
      "text/plain": [
       "<Figure size 432x288 with 2 Axes>"
      ]
     },
     "metadata": {},
     "output_type": "display_data"
    }
   ],
   "source": [
    "sns.heatmap(df.corr(),annot = True)"
   ]
  },
  {
   "cell_type": "markdown",
   "id": "e4ac07fc",
   "metadata": {},
   "source": [
    "#### Convert the values in the \"degree_t\" column into separate columns and assign a value of 0 if the row does not contain that degree and 1 if it does."
   ]
  },
  {
   "cell_type": "code",
   "execution_count": 80,
   "id": "6b155e3d",
   "metadata": {},
   "outputs": [
    {
     "data": {
      "text/html": [
       "<div>\n",
       "<style scoped>\n",
       "    .dataframe tbody tr th:only-of-type {\n",
       "        vertical-align: middle;\n",
       "    }\n",
       "\n",
       "    .dataframe tbody tr th {\n",
       "        vertical-align: top;\n",
       "    }\n",
       "\n",
       "    .dataframe thead th {\n",
       "        text-align: right;\n",
       "    }\n",
       "</style>\n",
       "<table border=\"1\" class=\"dataframe\">\n",
       "  <thead>\n",
       "    <tr style=\"text-align: right;\">\n",
       "      <th></th>\n",
       "      <th>Comm</th>\n",
       "      <th>Mgmt</th>\n",
       "      <th>Others</th>\n",
       "      <th>Sci</th>\n",
       "      <th>Tech</th>\n",
       "    </tr>\n",
       "  </thead>\n",
       "  <tbody>\n",
       "    <tr>\n",
       "      <th>0</th>\n",
       "      <td>0</td>\n",
       "      <td>0</td>\n",
       "      <td>0</td>\n",
       "      <td>1</td>\n",
       "      <td>0</td>\n",
       "    </tr>\n",
       "    <tr>\n",
       "      <th>0</th>\n",
       "      <td>0</td>\n",
       "      <td>0</td>\n",
       "      <td>0</td>\n",
       "      <td>0</td>\n",
       "      <td>1</td>\n",
       "    </tr>\n",
       "    <tr>\n",
       "      <th>1</th>\n",
       "      <td>0</td>\n",
       "      <td>0</td>\n",
       "      <td>0</td>\n",
       "      <td>1</td>\n",
       "      <td>0</td>\n",
       "    </tr>\n",
       "    <tr>\n",
       "      <th>1</th>\n",
       "      <td>0</td>\n",
       "      <td>0</td>\n",
       "      <td>0</td>\n",
       "      <td>0</td>\n",
       "      <td>1</td>\n",
       "    </tr>\n",
       "    <tr>\n",
       "      <th>2</th>\n",
       "      <td>1</td>\n",
       "      <td>0</td>\n",
       "      <td>0</td>\n",
       "      <td>0</td>\n",
       "      <td>0</td>\n",
       "    </tr>\n",
       "    <tr>\n",
       "      <th>...</th>\n",
       "      <td>...</td>\n",
       "      <td>...</td>\n",
       "      <td>...</td>\n",
       "      <td>...</td>\n",
       "      <td>...</td>\n",
       "    </tr>\n",
       "    <tr>\n",
       "      <th>212</th>\n",
       "      <td>0</td>\n",
       "      <td>1</td>\n",
       "      <td>0</td>\n",
       "      <td>0</td>\n",
       "      <td>0</td>\n",
       "    </tr>\n",
       "    <tr>\n",
       "      <th>213</th>\n",
       "      <td>1</td>\n",
       "      <td>0</td>\n",
       "      <td>0</td>\n",
       "      <td>0</td>\n",
       "      <td>0</td>\n",
       "    </tr>\n",
       "    <tr>\n",
       "      <th>213</th>\n",
       "      <td>0</td>\n",
       "      <td>1</td>\n",
       "      <td>0</td>\n",
       "      <td>0</td>\n",
       "      <td>0</td>\n",
       "    </tr>\n",
       "    <tr>\n",
       "      <th>214</th>\n",
       "      <td>1</td>\n",
       "      <td>0</td>\n",
       "      <td>0</td>\n",
       "      <td>0</td>\n",
       "      <td>0</td>\n",
       "    </tr>\n",
       "    <tr>\n",
       "      <th>214</th>\n",
       "      <td>0</td>\n",
       "      <td>1</td>\n",
       "      <td>0</td>\n",
       "      <td>0</td>\n",
       "      <td>0</td>\n",
       "    </tr>\n",
       "  </tbody>\n",
       "</table>\n",
       "<p>419 rows × 5 columns</p>\n",
       "</div>"
      ],
      "text/plain": [
       "     Comm  Mgmt  Others  Sci  Tech\n",
       "0       0     0       0    1     0\n",
       "0       0     0       0    0     1\n",
       "1       0     0       0    1     0\n",
       "1       0     0       0    0     1\n",
       "2       1     0       0    0     0\n",
       "..    ...   ...     ...  ...   ...\n",
       "212     0     1       0    0     0\n",
       "213     1     0       0    0     0\n",
       "213     0     1       0    0     0\n",
       "214     1     0       0    0     0\n",
       "214     0     1       0    0     0\n",
       "\n",
       "[419 rows x 5 columns]"
      ]
     },
     "execution_count": 80,
     "metadata": {},
     "output_type": "execute_result"
    }
   ],
   "source": [
    "# Split the values in the column at the '&' character\n",
    "degree_split_df = df['degree_t'].str.split('&', expand=True)\n",
    "\n",
    "# Flatten the resulting DataFrame\n",
    "degree_split_df = degree_split_df.stack().reset_index(level=1, drop=True)\n",
    "\n",
    "# Use pd.get_dummies to convert the values into separate columns with binary values\n",
    "degree_split_df = pd.get_dummies(degree_split_df)\n",
    "\n",
    "degree_split_df"
   ]
  },
  {
   "cell_type": "markdown",
   "id": "bea74114",
   "metadata": {},
   "source": [
    "#### Convert the values in the \"specialization\" column into separate columns and assign a value of 0 if the row does not contain that specialization and 1 if it does."
   ]
  },
  {
   "cell_type": "code",
   "execution_count": 81,
   "id": "3a5284bc",
   "metadata": {},
   "outputs": [
    {
     "data": {
      "text/html": [
       "<div>\n",
       "<style scoped>\n",
       "    .dataframe tbody tr th:only-of-type {\n",
       "        vertical-align: middle;\n",
       "    }\n",
       "\n",
       "    .dataframe tbody tr th {\n",
       "        vertical-align: top;\n",
       "    }\n",
       "\n",
       "    .dataframe thead th {\n",
       "        text-align: right;\n",
       "    }\n",
       "</style>\n",
       "<table border=\"1\" class=\"dataframe\">\n",
       "  <thead>\n",
       "    <tr style=\"text-align: right;\">\n",
       "      <th></th>\n",
       "      <th>Fin</th>\n",
       "      <th>HR</th>\n",
       "      <th>Mkt</th>\n",
       "    </tr>\n",
       "  </thead>\n",
       "  <tbody>\n",
       "    <tr>\n",
       "      <th>0</th>\n",
       "      <td>0</td>\n",
       "      <td>0</td>\n",
       "      <td>1</td>\n",
       "    </tr>\n",
       "    <tr>\n",
       "      <th>0</th>\n",
       "      <td>0</td>\n",
       "      <td>1</td>\n",
       "      <td>0</td>\n",
       "    </tr>\n",
       "    <tr>\n",
       "      <th>1</th>\n",
       "      <td>0</td>\n",
       "      <td>0</td>\n",
       "      <td>1</td>\n",
       "    </tr>\n",
       "    <tr>\n",
       "      <th>1</th>\n",
       "      <td>1</td>\n",
       "      <td>0</td>\n",
       "      <td>0</td>\n",
       "    </tr>\n",
       "    <tr>\n",
       "      <th>2</th>\n",
       "      <td>0</td>\n",
       "      <td>0</td>\n",
       "      <td>1</td>\n",
       "    </tr>\n",
       "    <tr>\n",
       "      <th>...</th>\n",
       "      <td>...</td>\n",
       "      <td>...</td>\n",
       "      <td>...</td>\n",
       "    </tr>\n",
       "    <tr>\n",
       "      <th>212</th>\n",
       "      <td>1</td>\n",
       "      <td>0</td>\n",
       "      <td>0</td>\n",
       "    </tr>\n",
       "    <tr>\n",
       "      <th>213</th>\n",
       "      <td>0</td>\n",
       "      <td>0</td>\n",
       "      <td>1</td>\n",
       "    </tr>\n",
       "    <tr>\n",
       "      <th>213</th>\n",
       "      <td>0</td>\n",
       "      <td>1</td>\n",
       "      <td>0</td>\n",
       "    </tr>\n",
       "    <tr>\n",
       "      <th>214</th>\n",
       "      <td>0</td>\n",
       "      <td>0</td>\n",
       "      <td>1</td>\n",
       "    </tr>\n",
       "    <tr>\n",
       "      <th>214</th>\n",
       "      <td>0</td>\n",
       "      <td>1</td>\n",
       "      <td>0</td>\n",
       "    </tr>\n",
       "  </tbody>\n",
       "</table>\n",
       "<p>430 rows × 3 columns</p>\n",
       "</div>"
      ],
      "text/plain": [
       "     Fin  HR  Mkt\n",
       "0      0   0    1\n",
       "0      0   1    0\n",
       "1      0   0    1\n",
       "1      1   0    0\n",
       "2      0   0    1\n",
       "..   ...  ..  ...\n",
       "212    1   0    0\n",
       "213    0   0    1\n",
       "213    0   1    0\n",
       "214    0   0    1\n",
       "214    0   1    0\n",
       "\n",
       "[430 rows x 3 columns]"
      ]
     },
     "execution_count": 81,
     "metadata": {},
     "output_type": "execute_result"
    }
   ],
   "source": [
    "# Split the values in the column at the '&' character\n",
    "specialisation_split_df = df['specialisation'].str.split('&', expand=True)\n",
    "\n",
    "# Flatten the resulting DataFrame\n",
    "specialisation_split_df = specialisation_split_df.stack().reset_index(level=1, drop=True)\n",
    "\n",
    "# Use pd.get_dummies to convert the values into separate columns with binary values\n",
    "specialisation_split_df = pd.get_dummies(specialisation_split_df)\n",
    "\n",
    "specialisation_split_df"
   ]
  },
  {
   "cell_type": "markdown",
   "id": "d0dc5065",
   "metadata": {},
   "source": [
    "#### Merging the \"degree_split_df\" and \"specialisation_split_df\" with the main data frame (df)."
   ]
  },
  {
   "cell_type": "code",
   "execution_count": 82,
   "id": "fd6cd653",
   "metadata": {},
   "outputs": [],
   "source": [
    "df = df.join([degree_split_df,specialisation_split_df])"
   ]
  },
  {
   "cell_type": "code",
   "execution_count": 83,
   "id": "9de65e79",
   "metadata": {},
   "outputs": [
    {
     "data": {
      "text/html": [
       "<div>\n",
       "<style scoped>\n",
       "    .dataframe tbody tr th:only-of-type {\n",
       "        vertical-align: middle;\n",
       "    }\n",
       "\n",
       "    .dataframe tbody tr th {\n",
       "        vertical-align: top;\n",
       "    }\n",
       "\n",
       "    .dataframe thead th {\n",
       "        text-align: right;\n",
       "    }\n",
       "</style>\n",
       "<table border=\"1\" class=\"dataframe\">\n",
       "  <thead>\n",
       "    <tr style=\"text-align: right;\">\n",
       "      <th></th>\n",
       "      <th>gender</th>\n",
       "      <th>ssc_p</th>\n",
       "      <th>ssc_b</th>\n",
       "      <th>hsc_p</th>\n",
       "      <th>hsc_b</th>\n",
       "      <th>hsc_s</th>\n",
       "      <th>degree_p</th>\n",
       "      <th>degree_t</th>\n",
       "      <th>workex</th>\n",
       "      <th>etest_p</th>\n",
       "      <th>...</th>\n",
       "      <th>status</th>\n",
       "      <th>salary</th>\n",
       "      <th>Comm</th>\n",
       "      <th>Mgmt</th>\n",
       "      <th>Others</th>\n",
       "      <th>Sci</th>\n",
       "      <th>Tech</th>\n",
       "      <th>Fin</th>\n",
       "      <th>HR</th>\n",
       "      <th>Mkt</th>\n",
       "    </tr>\n",
       "  </thead>\n",
       "  <tbody>\n",
       "    <tr>\n",
       "      <th>0</th>\n",
       "      <td>M</td>\n",
       "      <td>67.00</td>\n",
       "      <td>Others</td>\n",
       "      <td>91.00</td>\n",
       "      <td>Others</td>\n",
       "      <td>Commerce</td>\n",
       "      <td>58.00</td>\n",
       "      <td>Sci&amp;Tech</td>\n",
       "      <td>False</td>\n",
       "      <td>55.0</td>\n",
       "      <td>...</td>\n",
       "      <td>True</td>\n",
       "      <td>270000.0</td>\n",
       "      <td>0</td>\n",
       "      <td>0</td>\n",
       "      <td>0</td>\n",
       "      <td>1</td>\n",
       "      <td>0</td>\n",
       "      <td>0</td>\n",
       "      <td>0</td>\n",
       "      <td>1</td>\n",
       "    </tr>\n",
       "    <tr>\n",
       "      <th>0</th>\n",
       "      <td>M</td>\n",
       "      <td>67.00</td>\n",
       "      <td>Others</td>\n",
       "      <td>91.00</td>\n",
       "      <td>Others</td>\n",
       "      <td>Commerce</td>\n",
       "      <td>58.00</td>\n",
       "      <td>Sci&amp;Tech</td>\n",
       "      <td>False</td>\n",
       "      <td>55.0</td>\n",
       "      <td>...</td>\n",
       "      <td>True</td>\n",
       "      <td>270000.0</td>\n",
       "      <td>0</td>\n",
       "      <td>0</td>\n",
       "      <td>0</td>\n",
       "      <td>1</td>\n",
       "      <td>0</td>\n",
       "      <td>0</td>\n",
       "      <td>1</td>\n",
       "      <td>0</td>\n",
       "    </tr>\n",
       "    <tr>\n",
       "      <th>0</th>\n",
       "      <td>M</td>\n",
       "      <td>67.00</td>\n",
       "      <td>Others</td>\n",
       "      <td>91.00</td>\n",
       "      <td>Others</td>\n",
       "      <td>Commerce</td>\n",
       "      <td>58.00</td>\n",
       "      <td>Sci&amp;Tech</td>\n",
       "      <td>False</td>\n",
       "      <td>55.0</td>\n",
       "      <td>...</td>\n",
       "      <td>True</td>\n",
       "      <td>270000.0</td>\n",
       "      <td>0</td>\n",
       "      <td>0</td>\n",
       "      <td>0</td>\n",
       "      <td>0</td>\n",
       "      <td>1</td>\n",
       "      <td>0</td>\n",
       "      <td>0</td>\n",
       "      <td>1</td>\n",
       "    </tr>\n",
       "    <tr>\n",
       "      <th>0</th>\n",
       "      <td>M</td>\n",
       "      <td>67.00</td>\n",
       "      <td>Others</td>\n",
       "      <td>91.00</td>\n",
       "      <td>Others</td>\n",
       "      <td>Commerce</td>\n",
       "      <td>58.00</td>\n",
       "      <td>Sci&amp;Tech</td>\n",
       "      <td>False</td>\n",
       "      <td>55.0</td>\n",
       "      <td>...</td>\n",
       "      <td>True</td>\n",
       "      <td>270000.0</td>\n",
       "      <td>0</td>\n",
       "      <td>0</td>\n",
       "      <td>0</td>\n",
       "      <td>0</td>\n",
       "      <td>1</td>\n",
       "      <td>0</td>\n",
       "      <td>1</td>\n",
       "      <td>0</td>\n",
       "    </tr>\n",
       "    <tr>\n",
       "      <th>1</th>\n",
       "      <td>M</td>\n",
       "      <td>79.33</td>\n",
       "      <td>Central</td>\n",
       "      <td>78.33</td>\n",
       "      <td>Others</td>\n",
       "      <td>Science</td>\n",
       "      <td>77.48</td>\n",
       "      <td>Sci&amp;Tech</td>\n",
       "      <td>True</td>\n",
       "      <td>86.5</td>\n",
       "      <td>...</td>\n",
       "      <td>True</td>\n",
       "      <td>200000.0</td>\n",
       "      <td>0</td>\n",
       "      <td>0</td>\n",
       "      <td>0</td>\n",
       "      <td>1</td>\n",
       "      <td>0</td>\n",
       "      <td>0</td>\n",
       "      <td>0</td>\n",
       "      <td>1</td>\n",
       "    </tr>\n",
       "    <tr>\n",
       "      <th>...</th>\n",
       "      <td>...</td>\n",
       "      <td>...</td>\n",
       "      <td>...</td>\n",
       "      <td>...</td>\n",
       "      <td>...</td>\n",
       "      <td>...</td>\n",
       "      <td>...</td>\n",
       "      <td>...</td>\n",
       "      <td>...</td>\n",
       "      <td>...</td>\n",
       "      <td>...</td>\n",
       "      <td>...</td>\n",
       "      <td>...</td>\n",
       "      <td>...</td>\n",
       "      <td>...</td>\n",
       "      <td>...</td>\n",
       "      <td>...</td>\n",
       "      <td>...</td>\n",
       "      <td>...</td>\n",
       "      <td>...</td>\n",
       "      <td>...</td>\n",
       "    </tr>\n",
       "    <tr>\n",
       "      <th>213</th>\n",
       "      <td>F</td>\n",
       "      <td>74.00</td>\n",
       "      <td>Others</td>\n",
       "      <td>66.00</td>\n",
       "      <td>Others</td>\n",
       "      <td>Commerce</td>\n",
       "      <td>58.00</td>\n",
       "      <td>Comm&amp;Mgmt</td>\n",
       "      <td>False</td>\n",
       "      <td>70.0</td>\n",
       "      <td>...</td>\n",
       "      <td>True</td>\n",
       "      <td>204000.0</td>\n",
       "      <td>0</td>\n",
       "      <td>1</td>\n",
       "      <td>0</td>\n",
       "      <td>0</td>\n",
       "      <td>0</td>\n",
       "      <td>0</td>\n",
       "      <td>1</td>\n",
       "      <td>0</td>\n",
       "    </tr>\n",
       "    <tr>\n",
       "      <th>214</th>\n",
       "      <td>M</td>\n",
       "      <td>62.00</td>\n",
       "      <td>Central</td>\n",
       "      <td>58.00</td>\n",
       "      <td>Others</td>\n",
       "      <td>Science</td>\n",
       "      <td>53.00</td>\n",
       "      <td>Comm&amp;Mgmt</td>\n",
       "      <td>False</td>\n",
       "      <td>89.0</td>\n",
       "      <td>...</td>\n",
       "      <td>False</td>\n",
       "      <td>0.0</td>\n",
       "      <td>1</td>\n",
       "      <td>0</td>\n",
       "      <td>0</td>\n",
       "      <td>0</td>\n",
       "      <td>0</td>\n",
       "      <td>0</td>\n",
       "      <td>0</td>\n",
       "      <td>1</td>\n",
       "    </tr>\n",
       "    <tr>\n",
       "      <th>214</th>\n",
       "      <td>M</td>\n",
       "      <td>62.00</td>\n",
       "      <td>Central</td>\n",
       "      <td>58.00</td>\n",
       "      <td>Others</td>\n",
       "      <td>Science</td>\n",
       "      <td>53.00</td>\n",
       "      <td>Comm&amp;Mgmt</td>\n",
       "      <td>False</td>\n",
       "      <td>89.0</td>\n",
       "      <td>...</td>\n",
       "      <td>False</td>\n",
       "      <td>0.0</td>\n",
       "      <td>1</td>\n",
       "      <td>0</td>\n",
       "      <td>0</td>\n",
       "      <td>0</td>\n",
       "      <td>0</td>\n",
       "      <td>0</td>\n",
       "      <td>1</td>\n",
       "      <td>0</td>\n",
       "    </tr>\n",
       "    <tr>\n",
       "      <th>214</th>\n",
       "      <td>M</td>\n",
       "      <td>62.00</td>\n",
       "      <td>Central</td>\n",
       "      <td>58.00</td>\n",
       "      <td>Others</td>\n",
       "      <td>Science</td>\n",
       "      <td>53.00</td>\n",
       "      <td>Comm&amp;Mgmt</td>\n",
       "      <td>False</td>\n",
       "      <td>89.0</td>\n",
       "      <td>...</td>\n",
       "      <td>False</td>\n",
       "      <td>0.0</td>\n",
       "      <td>0</td>\n",
       "      <td>1</td>\n",
       "      <td>0</td>\n",
       "      <td>0</td>\n",
       "      <td>0</td>\n",
       "      <td>0</td>\n",
       "      <td>0</td>\n",
       "      <td>1</td>\n",
       "    </tr>\n",
       "    <tr>\n",
       "      <th>214</th>\n",
       "      <td>M</td>\n",
       "      <td>62.00</td>\n",
       "      <td>Central</td>\n",
       "      <td>58.00</td>\n",
       "      <td>Others</td>\n",
       "      <td>Science</td>\n",
       "      <td>53.00</td>\n",
       "      <td>Comm&amp;Mgmt</td>\n",
       "      <td>False</td>\n",
       "      <td>89.0</td>\n",
       "      <td>...</td>\n",
       "      <td>False</td>\n",
       "      <td>0.0</td>\n",
       "      <td>0</td>\n",
       "      <td>1</td>\n",
       "      <td>0</td>\n",
       "      <td>0</td>\n",
       "      <td>0</td>\n",
       "      <td>0</td>\n",
       "      <td>1</td>\n",
       "      <td>0</td>\n",
       "    </tr>\n",
       "  </tbody>\n",
       "</table>\n",
       "<p>838 rows × 22 columns</p>\n",
       "</div>"
      ],
      "text/plain": [
       "    gender  ssc_p    ssc_b  hsc_p   hsc_b     hsc_s  degree_p   degree_t  \\\n",
       "0        M  67.00   Others  91.00  Others  Commerce     58.00   Sci&Tech   \n",
       "0        M  67.00   Others  91.00  Others  Commerce     58.00   Sci&Tech   \n",
       "0        M  67.00   Others  91.00  Others  Commerce     58.00   Sci&Tech   \n",
       "0        M  67.00   Others  91.00  Others  Commerce     58.00   Sci&Tech   \n",
       "1        M  79.33  Central  78.33  Others   Science     77.48   Sci&Tech   \n",
       "..     ...    ...      ...    ...     ...       ...       ...        ...   \n",
       "213      F  74.00   Others  66.00  Others  Commerce     58.00  Comm&Mgmt   \n",
       "214      M  62.00  Central  58.00  Others   Science     53.00  Comm&Mgmt   \n",
       "214      M  62.00  Central  58.00  Others   Science     53.00  Comm&Mgmt   \n",
       "214      M  62.00  Central  58.00  Others   Science     53.00  Comm&Mgmt   \n",
       "214      M  62.00  Central  58.00  Others   Science     53.00  Comm&Mgmt   \n",
       "\n",
       "     workex  etest_p  ... status    salary  Comm  Mgmt  Others  Sci  Tech  \\\n",
       "0     False     55.0  ...   True  270000.0     0     0       0    1     0   \n",
       "0     False     55.0  ...   True  270000.0     0     0       0    1     0   \n",
       "0     False     55.0  ...   True  270000.0     0     0       0    0     1   \n",
       "0     False     55.0  ...   True  270000.0     0     0       0    0     1   \n",
       "1      True     86.5  ...   True  200000.0     0     0       0    1     0   \n",
       "..      ...      ...  ...    ...       ...   ...   ...     ...  ...   ...   \n",
       "213   False     70.0  ...   True  204000.0     0     1       0    0     0   \n",
       "214   False     89.0  ...  False       0.0     1     0       0    0     0   \n",
       "214   False     89.0  ...  False       0.0     1     0       0    0     0   \n",
       "214   False     89.0  ...  False       0.0     0     1       0    0     0   \n",
       "214   False     89.0  ...  False       0.0     0     1       0    0     0   \n",
       "\n",
       "     Fin  HR  Mkt  \n",
       "0      0   0    1  \n",
       "0      0   1    0  \n",
       "0      0   0    1  \n",
       "0      0   1    0  \n",
       "1      0   0    1  \n",
       "..   ...  ..  ...  \n",
       "213    0   1    0  \n",
       "214    0   0    1  \n",
       "214    0   1    0  \n",
       "214    0   0    1  \n",
       "214    0   1    0  \n",
       "\n",
       "[838 rows x 22 columns]"
      ]
     },
     "execution_count": 83,
     "metadata": {},
     "output_type": "execute_result"
    }
   ],
   "source": [
    "df"
   ]
  },
  {
   "cell_type": "markdown",
   "id": "51adfa54",
   "metadata": {},
   "source": [
    "#### Converting the data type of the specified columns to boolean."
   ]
  },
  {
   "cell_type": "code",
   "execution_count": 84,
   "id": "fef43acb",
   "metadata": {},
   "outputs": [],
   "source": [
    "df['workex'] = df['workex'].astype(bool)\n",
    "df['status'] = df['status'].astype(bool)\n",
    "\n",
    "df['Comm'] = df['Comm'].astype(bool)\n",
    "df['Mgmt'] = df['Mgmt'].astype(bool)\n",
    "df['Others'] = df['Others'].astype(bool)\n",
    "df['Sci'] = df['Sci'].astype(bool)\n",
    "df['Tech'] = df['Tech'].astype(bool)\n",
    "df['Fin'] = df['Fin'].astype(bool)\n",
    "df['HR'] = df['HR'].astype(bool)\n",
    "df['Mkt'] = df['Mkt'].astype(bool)"
   ]
  },
  {
   "cell_type": "markdown",
   "id": "845f7e8e",
   "metadata": {},
   "source": [
    "#### Checking data type"
   ]
  },
  {
   "cell_type": "code",
   "execution_count": 85,
   "id": "62b53464",
   "metadata": {},
   "outputs": [
    {
     "data": {
      "text/plain": [
       "gender             object\n",
       "ssc_p             float64\n",
       "ssc_b              object\n",
       "hsc_p             float64\n",
       "hsc_b              object\n",
       "hsc_s              object\n",
       "degree_p          float64\n",
       "degree_t           object\n",
       "workex               bool\n",
       "etest_p           float64\n",
       "specialisation     object\n",
       "mba_p             float64\n",
       "status               bool\n",
       "salary            float64\n",
       "Comm                 bool\n",
       "Mgmt                 bool\n",
       "Others               bool\n",
       "Sci                  bool\n",
       "Tech                 bool\n",
       "Fin                  bool\n",
       "HR                   bool\n",
       "Mkt                  bool\n",
       "dtype: object"
      ]
     },
     "execution_count": 85,
     "metadata": {},
     "output_type": "execute_result"
    }
   ],
   "source": [
    "df.dtypes"
   ]
  },
  {
   "cell_type": "markdown",
   "id": "644fe738",
   "metadata": {},
   "source": [
    "## Answering The Given Questions"
   ]
  },
  {
   "cell_type": "markdown",
   "id": "b31d7296",
   "metadata": {},
   "source": [
    "#### 1) Who is getting more salary on the basis of Gender?"
   ]
  },
  {
   "cell_type": "code",
   "execution_count": 86,
   "id": "60516880",
   "metadata": {},
   "outputs": [
    {
     "name": "stdout",
     "output_type": "stream",
     "text": [
      "gender\n",
      "F    167863.013699\n",
      "M    218065.934066\n",
      "Name: salary, dtype: float64\n",
      "26.01670255409674\n"
     ]
    }
   ],
   "source": [
    "def percentageCalc(number1, number2):\n",
    "\n",
    "    percentage_difference = 100 * (abs(number1 - number2) / ((number1 + number2) / 2))\n",
    "    \n",
    "    return format(percentage_difference)\n",
    "\n",
    "# Group data by gender\n",
    "grouped = df.groupby(\"gender\")\n",
    "\n",
    "# Calculate average salary for each gender group\n",
    "average_salary = grouped[\"salary\"].mean()\n",
    "\n",
    "# Print average salary for each gender group\n",
    "print(average_salary)\n",
    "print(percentageCalc(218066,167863))"
   ]
  },
  {
   "cell_type": "markdown",
   "id": "f113ac89",
   "metadata": {},
   "source": [
    "The average salary for female individuals is 167863.01, while the average salary for male individuals is 218065.93. \n",
    "\n",
    "The male average salary is 26.02% higher than the female average salary, calculated as the difference between the two groups."
   ]
  },
  {
   "cell_type": "markdown",
   "id": "614cc74b",
   "metadata": {},
   "source": [
    "#### 2) Which specialization has more job placement?"
   ]
  },
  {
   "cell_type": "code",
   "execution_count": 87,
   "id": "9fceb22c",
   "metadata": {},
   "outputs": [
    {
     "name": "stdout",
     "output_type": "stream",
     "text": [
      "291\n",
      "188\n",
      "103\n"
     ]
    },
    {
     "data": {
      "image/png": "[encoded data removed]",
      "text/plain": [
       "<Figure size 432x288 with 1 Axes>"
      ]
     },
     "metadata": {},
     "output_type": "display_data"
    }
   ],
   "source": [
    "df\n",
    "marketing_placements = (df['Mkt'].eq(True) & df['status'].eq(True)).sum()\n",
    "finance_placements = (df['Fin'].eq(True) & df['status'].eq(True)).sum()\n",
    "hr_placements = (df['HR'].eq(True) & df['status'].eq(True)).sum()\n",
    "\n",
    "print(marketing_placements)\n",
    "print(finance_placements)\n",
    "print(hr_placements)\n",
    "\n",
    "# Plot the results\n",
    "placements = [marketing_placements, finance_placements, hr_placements]\n",
    "specializations = ['Marketing', 'Finance', 'Human Resources']\n",
    "plt.bar(specializations, placements)\n",
    "plt.xlabel(\"Specialization\")\n",
    "plt.ylabel(\"Status\")\n",
    "plt.title(\"Number of Placements by Specialization\")\n",
    "plt.show()"
   ]
  },
  {
   "cell_type": "markdown",
   "id": "4ad02309",
   "metadata": {},
   "source": [
    "There are three specializations: Marketing, Finance, and Human Resources, with 291, 188, and 103 successful placements, respectively. This data represents the number of students placed in jobs out of the total number of students who specialize in each area. It provides insight into which specializations are more sought after and which are less popular in the job market."
   ]
  },
  {
   "cell_type": "markdown",
   "id": "a191f353",
   "metadata": {},
   "source": [
    "#### 3) Which specialization is getting more salary?"
   ]
  },
  {
   "cell_type": "code",
   "execution_count": 88,
   "id": "03424388",
   "metadata": {},
   "outputs": [
    {
     "name": "stdout",
     "output_type": "stream",
     "text": [
      "Average salary for marketing: 200572.7923627685\n",
      "Average salary for finance: 238059.3220338983\n",
      "Average salary for human resources: 152229.50819672132\n"
     ]
    }
   ],
   "source": [
    "marketing_salary = df[df['Mkt'] == 1]['salary'].mean()\n",
    "finance_salary = df[df['Fin'] == 1]['salary'].mean()\n",
    "hr_salary = df[df['HR'] == 1]['salary'].mean()\n",
    "\n",
    "# display the results\n",
    "print(\"Average salary for marketing:\", marketing_salary)\n",
    "print(\"Average salary for finance:\", finance_salary)\n",
    "print(\"Average salary for human resources:\", hr_salary)"
   ]
  },
  {
   "cell_type": "markdown",
   "id": "04a89a15",
   "metadata": {},
   "source": [
    "The average salary of successfully placed students for each specialization has been calculated. The data shows that the average salary for Marketing is 200,572.79, for Finance it is 238,059.32, and for Human Resources it is 152,229.51. This information can provide insight into the job market for each specialization and assist students in making informed career choices."
   ]
  },
  {
   "cell_type": "markdown",
   "id": "36103928",
   "metadata": {},
   "source": [
    "#### 4) Which hsc_s gets more salary on the basis of gender?"
   ]
  },
  {
   "cell_type": "code",
   "execution_count": 89,
   "id": "f25f98a7",
   "metadata": {},
   "outputs": [
    {
     "name": "stdout",
     "output_type": "stream",
     "text": [
      "hsc_s\n",
      "Arts        135777.777778\n",
      "Commerce    201831.111111\n",
      "Science     205590.909091\n",
      "Name: salary, dtype: float64\n"
     ]
    }
   ],
   "source": [
    "# Group data by hsc_s module\n",
    "grouped = df.groupby(\"hsc_s\")\n",
    "\n",
    "# Calculate average salary for each hsc_s module group\n",
    "average_salary = grouped[\"salary\"].mean()\n",
    "\n",
    "# Print average salary for each hsc_s module group\n",
    "print(average_salary)\n"
   ]
  },
  {
   "cell_type": "markdown",
   "id": "acadf9c3",
   "metadata": {},
   "source": [
    "The hsc_s has three modules: Arts, Commerce, and Science. The average salary for Arts is 135777.77, which is roughly 46% lower compared to the average salary of Commerce which stands at 201831.11. Science has an average salary of 205590.90, which is about 51% higher than Arts but 1% lower than Commerce."
   ]
  },
  {
   "cell_type": "markdown",
   "id": "c843e574",
   "metadata": {},
   "source": [
    "#### 5) Who has high job placement on the basis of degree_t and gender?"
   ]
  },
  {
   "cell_type": "code",
   "execution_count": 90,
   "id": "f91d22f5",
   "metadata": {},
   "outputs": [
    {
     "data": {
      "text/html": [
       "<div>\n",
       "<style scoped>\n",
       "    .dataframe tbody tr th:only-of-type {\n",
       "        vertical-align: middle;\n",
       "    }\n",
       "\n",
       "    .dataframe tbody tr th {\n",
       "        vertical-align: top;\n",
       "    }\n",
       "\n",
       "    .dataframe thead th {\n",
       "        text-align: right;\n",
       "    }\n",
       "</style>\n",
       "<table border=\"1\" class=\"dataframe\">\n",
       "  <thead>\n",
       "    <tr style=\"text-align: right;\">\n",
       "      <th></th>\n",
       "      <th>degree_t</th>\n",
       "      <th>gender</th>\n",
       "      <th>status</th>\n",
       "    </tr>\n",
       "  </thead>\n",
       "  <tbody>\n",
       "    <tr>\n",
       "      <th>1</th>\n",
       "      <td>Comm&amp;Mgmt</td>\n",
       "      <td>M</td>\n",
       "      <td>276</td>\n",
       "    </tr>\n",
       "    <tr>\n",
       "      <th>0</th>\n",
       "      <td>Comm&amp;Mgmt</td>\n",
       "      <td>F</td>\n",
       "      <td>132</td>\n",
       "    </tr>\n",
       "    <tr>\n",
       "      <th>5</th>\n",
       "      <td>Sci&amp;Tech</td>\n",
       "      <td>M</td>\n",
       "      <td>120</td>\n",
       "    </tr>\n",
       "    <tr>\n",
       "      <th>4</th>\n",
       "      <td>Sci&amp;Tech</td>\n",
       "      <td>F</td>\n",
       "      <td>44</td>\n",
       "    </tr>\n",
       "    <tr>\n",
       "      <th>2</th>\n",
       "      <td>Others</td>\n",
       "      <td>F</td>\n",
       "      <td>8</td>\n",
       "    </tr>\n",
       "    <tr>\n",
       "      <th>3</th>\n",
       "      <td>Others</td>\n",
       "      <td>M</td>\n",
       "      <td>2</td>\n",
       "    </tr>\n",
       "  </tbody>\n",
       "</table>\n",
       "</div>"
      ],
      "text/plain": [
       "    degree_t gender  status\n",
       "1  Comm&Mgmt      M     276\n",
       "0  Comm&Mgmt      F     132\n",
       "5   Sci&Tech      M     120\n",
       "4   Sci&Tech      F      44\n",
       "2     Others      F       8\n",
       "3     Others      M       2"
      ]
     },
     "execution_count": 90,
     "metadata": {},
     "output_type": "execute_result"
    }
   ],
   "source": [
    "grouped = df.groupby([\"degree_t\", \"gender\"])[\"status\"].agg(\"sum\")\n",
    "result = grouped.reset_index().sort_values(\"status\", ascending=False)\n",
    "result"
   ]
  },
  {
   "cell_type": "markdown",
   "id": "96883de1",
   "metadata": {},
   "source": [
    "The data represents the job placement status of students based on their degree type (degree_t) and gender.\n",
    "\n",
    "For male students, those with a degree in Commerce & Management have the most placements with 276. Female students with the same degree have 132 placements.\n",
    "\n",
    "Male students with a degree in Science & Technology have 120 placements, which is lower compared to male students in Commerce & Management. The number of female students placed in Science & Technology is 44, which is also lower than female students in Commerce & Management.\n",
    "\n",
    "The number of male students placed with a degree in Others is 2, which is significantly lower compared to other degrees. The number of female students placed with a degree in Others is 8, which is also lower compared to other degrees.\n",
    "\n",
    "In conclusion, a degree in Commerce & Management leads to more placements for both male and female students, followed by Science & Technology. A degree in Others has a much lower number of placements for both genders."
   ]
  },
  {
   "cell_type": "markdown",
   "id": "7ddfdd7b",
   "metadata": {},
   "source": [
    "#### 6) Which gender has high work experience?"
   ]
  },
  {
   "cell_type": "code",
   "execution_count": 91,
   "id": "89e875e0",
   "metadata": {},
   "outputs": [
    {
     "data": {
      "text/html": [
       "<div>\n",
       "<style scoped>\n",
       "    .dataframe tbody tr th:only-of-type {\n",
       "        vertical-align: middle;\n",
       "    }\n",
       "\n",
       "    .dataframe tbody tr th {\n",
       "        vertical-align: top;\n",
       "    }\n",
       "\n",
       "    .dataframe thead th {\n",
       "        text-align: right;\n",
       "    }\n",
       "</style>\n",
       "<table border=\"1\" class=\"dataframe\">\n",
       "  <thead>\n",
       "    <tr style=\"text-align: right;\">\n",
       "      <th></th>\n",
       "      <th>gender</th>\n",
       "      <th>workex</th>\n",
       "    </tr>\n",
       "  </thead>\n",
       "  <tbody>\n",
       "    <tr>\n",
       "      <th>1</th>\n",
       "      <td>M</td>\n",
       "      <td>204</td>\n",
       "    </tr>\n",
       "    <tr>\n",
       "      <th>0</th>\n",
       "      <td>F</td>\n",
       "      <td>84</td>\n",
       "    </tr>\n",
       "  </tbody>\n",
       "</table>\n",
       "</div>"
      ],
      "text/plain": [
       "  gender  workex\n",
       "1      M     204\n",
       "0      F      84"
      ]
     },
     "execution_count": 91,
     "metadata": {},
     "output_type": "execute_result"
    }
   ],
   "source": [
    "# Calculating the sum of work experience for each gender\n",
    "gender_work_experience = df.groupby(\"gender\")[\"workex\"].sum()\n",
    "result = gender_work_experience.reset_index().sort_values(\"gender\", ascending=False)\n",
    "result"
   ]
  },
  {
   "cell_type": "markdown",
   "id": "0dd6aa07",
   "metadata": {},
   "source": [
    "The data shows a breakdown of students' work experience by gender, with 204 male students and 84 female students reported to have work experience. This information can be used to examine the gender distribution of students with work experience and make informed decisions or observations.\n",
    "\n"
   ]
  },
  {
   "cell_type": "markdown",
   "id": "8368accf",
   "metadata": {},
   "source": [
    "#### 7) Which specialization is getting more salary in the basis of degree_t?"
   ]
  },
  {
   "cell_type": "code",
   "execution_count": 95,
   "id": "2db4a4a3",
   "metadata": {},
   "outputs": [
    {
     "data": {
      "text/html": [
       "<div>\n",
       "<style scoped>\n",
       "    .dataframe tbody tr th:only-of-type {\n",
       "        vertical-align: middle;\n",
       "    }\n",
       "\n",
       "    .dataframe tbody tr th {\n",
       "        vertical-align: top;\n",
       "    }\n",
       "\n",
       "    .dataframe thead th {\n",
       "        text-align: right;\n",
       "    }\n",
       "</style>\n",
       "<table border=\"1\" class=\"dataframe\">\n",
       "  <thead>\n",
       "    <tr style=\"text-align: right;\">\n",
       "      <th></th>\n",
       "      <th>gender</th>\n",
       "      <th>ssc_p</th>\n",
       "      <th>ssc_b</th>\n",
       "      <th>hsc_p</th>\n",
       "      <th>hsc_b</th>\n",
       "      <th>hsc_s</th>\n",
       "      <th>degree_p</th>\n",
       "      <th>degree_t</th>\n",
       "      <th>workex</th>\n",
       "      <th>etest_p</th>\n",
       "      <th>...</th>\n",
       "      <th>status</th>\n",
       "      <th>salary</th>\n",
       "      <th>Comm</th>\n",
       "      <th>Mgmt</th>\n",
       "      <th>Others</th>\n",
       "      <th>Sci</th>\n",
       "      <th>Tech</th>\n",
       "      <th>Fin</th>\n",
       "      <th>HR</th>\n",
       "      <th>Mkt</th>\n",
       "    </tr>\n",
       "  </thead>\n",
       "  <tbody>\n",
       "    <tr>\n",
       "      <th>0</th>\n",
       "      <td>M</td>\n",
       "      <td>67.00</td>\n",
       "      <td>Others</td>\n",
       "      <td>91.00</td>\n",
       "      <td>Others</td>\n",
       "      <td>Commerce</td>\n",
       "      <td>58.00</td>\n",
       "      <td>Sci&amp;Tech</td>\n",
       "      <td>False</td>\n",
       "      <td>55.0</td>\n",
       "      <td>...</td>\n",
       "      <td>True</td>\n",
       "      <td>270000.0</td>\n",
       "      <td>False</td>\n",
       "      <td>False</td>\n",
       "      <td>False</td>\n",
       "      <td>True</td>\n",
       "      <td>False</td>\n",
       "      <td>False</td>\n",
       "      <td>False</td>\n",
       "      <td>True</td>\n",
       "    </tr>\n",
       "    <tr>\n",
       "      <th>0</th>\n",
       "      <td>M</td>\n",
       "      <td>67.00</td>\n",
       "      <td>Others</td>\n",
       "      <td>91.00</td>\n",
       "      <td>Others</td>\n",
       "      <td>Commerce</td>\n",
       "      <td>58.00</td>\n",
       "      <td>Sci&amp;Tech</td>\n",
       "      <td>False</td>\n",
       "      <td>55.0</td>\n",
       "      <td>...</td>\n",
       "      <td>True</td>\n",
       "      <td>270000.0</td>\n",
       "      <td>False</td>\n",
       "      <td>False</td>\n",
       "      <td>False</td>\n",
       "      <td>True</td>\n",
       "      <td>False</td>\n",
       "      <td>False</td>\n",
       "      <td>True</td>\n",
       "      <td>False</td>\n",
       "    </tr>\n",
       "    <tr>\n",
       "      <th>0</th>\n",
       "      <td>M</td>\n",
       "      <td>67.00</td>\n",
       "      <td>Others</td>\n",
       "      <td>91.00</td>\n",
       "      <td>Others</td>\n",
       "      <td>Commerce</td>\n",
       "      <td>58.00</td>\n",
       "      <td>Sci&amp;Tech</td>\n",
       "      <td>False</td>\n",
       "      <td>55.0</td>\n",
       "      <td>...</td>\n",
       "      <td>True</td>\n",
       "      <td>270000.0</td>\n",
       "      <td>False</td>\n",
       "      <td>False</td>\n",
       "      <td>False</td>\n",
       "      <td>False</td>\n",
       "      <td>True</td>\n",
       "      <td>False</td>\n",
       "      <td>False</td>\n",
       "      <td>True</td>\n",
       "    </tr>\n",
       "    <tr>\n",
       "      <th>0</th>\n",
       "      <td>M</td>\n",
       "      <td>67.00</td>\n",
       "      <td>Others</td>\n",
       "      <td>91.00</td>\n",
       "      <td>Others</td>\n",
       "      <td>Commerce</td>\n",
       "      <td>58.00</td>\n",
       "      <td>Sci&amp;Tech</td>\n",
       "      <td>False</td>\n",
       "      <td>55.0</td>\n",
       "      <td>...</td>\n",
       "      <td>True</td>\n",
       "      <td>270000.0</td>\n",
       "      <td>False</td>\n",
       "      <td>False</td>\n",
       "      <td>False</td>\n",
       "      <td>False</td>\n",
       "      <td>True</td>\n",
       "      <td>False</td>\n",
       "      <td>True</td>\n",
       "      <td>False</td>\n",
       "    </tr>\n",
       "    <tr>\n",
       "      <th>1</th>\n",
       "      <td>M</td>\n",
       "      <td>79.33</td>\n",
       "      <td>Central</td>\n",
       "      <td>78.33</td>\n",
       "      <td>Others</td>\n",
       "      <td>Science</td>\n",
       "      <td>77.48</td>\n",
       "      <td>Sci&amp;Tech</td>\n",
       "      <td>True</td>\n",
       "      <td>86.5</td>\n",
       "      <td>...</td>\n",
       "      <td>True</td>\n",
       "      <td>200000.0</td>\n",
       "      <td>False</td>\n",
       "      <td>False</td>\n",
       "      <td>False</td>\n",
       "      <td>True</td>\n",
       "      <td>False</td>\n",
       "      <td>False</td>\n",
       "      <td>False</td>\n",
       "      <td>True</td>\n",
       "    </tr>\n",
       "    <tr>\n",
       "      <th>...</th>\n",
       "      <td>...</td>\n",
       "      <td>...</td>\n",
       "      <td>...</td>\n",
       "      <td>...</td>\n",
       "      <td>...</td>\n",
       "      <td>...</td>\n",
       "      <td>...</td>\n",
       "      <td>...</td>\n",
       "      <td>...</td>\n",
       "      <td>...</td>\n",
       "      <td>...</td>\n",
       "      <td>...</td>\n",
       "      <td>...</td>\n",
       "      <td>...</td>\n",
       "      <td>...</td>\n",
       "      <td>...</td>\n",
       "      <td>...</td>\n",
       "      <td>...</td>\n",
       "      <td>...</td>\n",
       "      <td>...</td>\n",
       "      <td>...</td>\n",
       "    </tr>\n",
       "    <tr>\n",
       "      <th>213</th>\n",
       "      <td>F</td>\n",
       "      <td>74.00</td>\n",
       "      <td>Others</td>\n",
       "      <td>66.00</td>\n",
       "      <td>Others</td>\n",
       "      <td>Commerce</td>\n",
       "      <td>58.00</td>\n",
       "      <td>Comm&amp;Mgmt</td>\n",
       "      <td>False</td>\n",
       "      <td>70.0</td>\n",
       "      <td>...</td>\n",
       "      <td>True</td>\n",
       "      <td>204000.0</td>\n",
       "      <td>False</td>\n",
       "      <td>True</td>\n",
       "      <td>False</td>\n",
       "      <td>False</td>\n",
       "      <td>False</td>\n",
       "      <td>False</td>\n",
       "      <td>True</td>\n",
       "      <td>False</td>\n",
       "    </tr>\n",
       "    <tr>\n",
       "      <th>214</th>\n",
       "      <td>M</td>\n",
       "      <td>62.00</td>\n",
       "      <td>Central</td>\n",
       "      <td>58.00</td>\n",
       "      <td>Others</td>\n",
       "      <td>Science</td>\n",
       "      <td>53.00</td>\n",
       "      <td>Comm&amp;Mgmt</td>\n",
       "      <td>False</td>\n",
       "      <td>89.0</td>\n",
       "      <td>...</td>\n",
       "      <td>False</td>\n",
       "      <td>0.0</td>\n",
       "      <td>True</td>\n",
       "      <td>False</td>\n",
       "      <td>False</td>\n",
       "      <td>False</td>\n",
       "      <td>False</td>\n",
       "      <td>False</td>\n",
       "      <td>False</td>\n",
       "      <td>True</td>\n",
       "    </tr>\n",
       "    <tr>\n",
       "      <th>214</th>\n",
       "      <td>M</td>\n",
       "      <td>62.00</td>\n",
       "      <td>Central</td>\n",
       "      <td>58.00</td>\n",
       "      <td>Others</td>\n",
       "      <td>Science</td>\n",
       "      <td>53.00</td>\n",
       "      <td>Comm&amp;Mgmt</td>\n",
       "      <td>False</td>\n",
       "      <td>89.0</td>\n",
       "      <td>...</td>\n",
       "      <td>False</td>\n",
       "      <td>0.0</td>\n",
       "      <td>True</td>\n",
       "      <td>False</td>\n",
       "      <td>False</td>\n",
       "      <td>False</td>\n",
       "      <td>False</td>\n",
       "      <td>False</td>\n",
       "      <td>True</td>\n",
       "      <td>False</td>\n",
       "    </tr>\n",
       "    <tr>\n",
       "      <th>214</th>\n",
       "      <td>M</td>\n",
       "      <td>62.00</td>\n",
       "      <td>Central</td>\n",
       "      <td>58.00</td>\n",
       "      <td>Others</td>\n",
       "      <td>Science</td>\n",
       "      <td>53.00</td>\n",
       "      <td>Comm&amp;Mgmt</td>\n",
       "      <td>False</td>\n",
       "      <td>89.0</td>\n",
       "      <td>...</td>\n",
       "      <td>False</td>\n",
       "      <td>0.0</td>\n",
       "      <td>False</td>\n",
       "      <td>True</td>\n",
       "      <td>False</td>\n",
       "      <td>False</td>\n",
       "      <td>False</td>\n",
       "      <td>False</td>\n",
       "      <td>False</td>\n",
       "      <td>True</td>\n",
       "    </tr>\n",
       "    <tr>\n",
       "      <th>214</th>\n",
       "      <td>M</td>\n",
       "      <td>62.00</td>\n",
       "      <td>Central</td>\n",
       "      <td>58.00</td>\n",
       "      <td>Others</td>\n",
       "      <td>Science</td>\n",
       "      <td>53.00</td>\n",
       "      <td>Comm&amp;Mgmt</td>\n",
       "      <td>False</td>\n",
       "      <td>89.0</td>\n",
       "      <td>...</td>\n",
       "      <td>False</td>\n",
       "      <td>0.0</td>\n",
       "      <td>False</td>\n",
       "      <td>True</td>\n",
       "      <td>False</td>\n",
       "      <td>False</td>\n",
       "      <td>False</td>\n",
       "      <td>False</td>\n",
       "      <td>True</td>\n",
       "      <td>False</td>\n",
       "    </tr>\n",
       "  </tbody>\n",
       "</table>\n",
       "<p>838 rows × 22 columns</p>\n",
       "</div>"
      ],
      "text/plain": [
       "    gender  ssc_p    ssc_b  hsc_p   hsc_b     hsc_s  degree_p   degree_t  \\\n",
       "0        M  67.00   Others  91.00  Others  Commerce     58.00   Sci&Tech   \n",
       "0        M  67.00   Others  91.00  Others  Commerce     58.00   Sci&Tech   \n",
       "0        M  67.00   Others  91.00  Others  Commerce     58.00   Sci&Tech   \n",
       "0        M  67.00   Others  91.00  Others  Commerce     58.00   Sci&Tech   \n",
       "1        M  79.33  Central  78.33  Others   Science     77.48   Sci&Tech   \n",
       "..     ...    ...      ...    ...     ...       ...       ...        ...   \n",
       "213      F  74.00   Others  66.00  Others  Commerce     58.00  Comm&Mgmt   \n",
       "214      M  62.00  Central  58.00  Others   Science     53.00  Comm&Mgmt   \n",
       "214      M  62.00  Central  58.00  Others   Science     53.00  Comm&Mgmt   \n",
       "214      M  62.00  Central  58.00  Others   Science     53.00  Comm&Mgmt   \n",
       "214      M  62.00  Central  58.00  Others   Science     53.00  Comm&Mgmt   \n",
       "\n",
       "     workex  etest_p  ... status    salary   Comm   Mgmt  Others    Sci  \\\n",
       "0     False     55.0  ...   True  270000.0  False  False   False   True   \n",
       "0     False     55.0  ...   True  270000.0  False  False   False   True   \n",
       "0     False     55.0  ...   True  270000.0  False  False   False  False   \n",
       "0     False     55.0  ...   True  270000.0  False  False   False  False   \n",
       "1      True     86.5  ...   True  200000.0  False  False   False   True   \n",
       "..      ...      ...  ...    ...       ...    ...    ...     ...    ...   \n",
       "213   False     70.0  ...   True  204000.0  False   True   False  False   \n",
       "214   False     89.0  ...  False       0.0   True  False   False  False   \n",
       "214   False     89.0  ...  False       0.0   True  False   False  False   \n",
       "214   False     89.0  ...  False       0.0  False   True   False  False   \n",
       "214   False     89.0  ...  False       0.0  False   True   False  False   \n",
       "\n",
       "      Tech    Fin     HR    Mkt  \n",
       "0    False  False  False   True  \n",
       "0    False  False   True  False  \n",
       "0     True  False  False   True  \n",
       "0     True  False   True  False  \n",
       "1    False  False  False   True  \n",
       "..     ...    ...    ...    ...  \n",
       "213  False  False   True  False  \n",
       "214  False  False  False   True  \n",
       "214  False  False   True  False  \n",
       "214  False  False  False   True  \n",
       "214  False  False   True  False  \n",
       "\n",
       "[838 rows x 22 columns]"
      ]
     },
     "execution_count": 95,
     "metadata": {},
     "output_type": "execute_result"
    }
   ],
   "source": [
    "results = []\n",
    "\n",
    "for degree in ['Comm&Mgmt', 'Sci&Tech', 'Others']:\n",
    "    MktBasedOnDegree = df[(df['Mkt'] == True) & (df['degree_t'] == degree)]['salary'].mean()\n",
    "    FinBasedOnDegree = df[(df['Fin'] == True) & (df['degree_t'] == degree)]['salary'].mean()\n",
    "    HRBasedOnDegree = df[(df['HR'] == True) & (df['degree_t'] == degree)]['salary'].mean()                             \n",
    "\n",
    "    results.append({\n",
    "        'degree': degree,\n",
    "        'Mkt': MktBasedOnDegree,\n",
    "        'Fin': FinBasedOnDegree,\n",
    "        'HR': HRBasedOnDegree\n",
    "    })\n",
    "    \n",
    "degrree_df = pd.DataFrame(results)\n",
    "df"
   ]
  },
  {
   "cell_type": "markdown",
   "id": "a8b487f2",
   "metadata": {},
   "source": [
    "#### 8) Which degree_t is placed more?"
   ]
  },
  {
   "cell_type": "code",
   "execution_count": 96,
   "id": "3179f26a",
   "metadata": {},
   "outputs": [
    {
     "data": {
      "text/html": [
       "<div>\n",
       "<style scoped>\n",
       "    .dataframe tbody tr th:only-of-type {\n",
       "        vertical-align: middle;\n",
       "    }\n",
       "\n",
       "    .dataframe tbody tr th {\n",
       "        vertical-align: top;\n",
       "    }\n",
       "\n",
       "    .dataframe thead th {\n",
       "        text-align: right;\n",
       "    }\n",
       "</style>\n",
       "<table border=\"1\" class=\"dataframe\">\n",
       "  <thead>\n",
       "    <tr style=\"text-align: right;\">\n",
       "      <th></th>\n",
       "      <th>degree_t</th>\n",
       "      <th>status</th>\n",
       "    </tr>\n",
       "  </thead>\n",
       "  <tbody>\n",
       "    <tr>\n",
       "      <th>0</th>\n",
       "      <td>Comm&amp;Mgmt</td>\n",
       "      <td>408</td>\n",
       "    </tr>\n",
       "    <tr>\n",
       "      <th>2</th>\n",
       "      <td>Sci&amp;Tech</td>\n",
       "      <td>164</td>\n",
       "    </tr>\n",
       "    <tr>\n",
       "      <th>1</th>\n",
       "      <td>Others</td>\n",
       "      <td>10</td>\n",
       "    </tr>\n",
       "  </tbody>\n",
       "</table>\n",
       "</div>"
      ],
      "text/plain": [
       "    degree_t  status\n",
       "0  Comm&Mgmt     408\n",
       "2   Sci&Tech     164\n",
       "1     Others      10"
      ]
     },
     "execution_count": 96,
     "metadata": {},
     "output_type": "execute_result"
    }
   ],
   "source": [
    "degree_job_placement = df.groupby(\"degree_t\")[\"status\"].sum()\n",
    "\n",
    "result = degree_job_placement.reset_index().sort_values(\"status\", ascending=False)\n",
    "\n",
    "result\n"
   ]
  },
  {
   "cell_type": "markdown",
   "id": "a8588b2d",
   "metadata": {},
   "source": [
    "The data contains 3 different types of degree_t, which are \"Comm&Mgmt\", \"Sci&Tech\", and \"Others\". Out of these, \"Comm&Mgmt\" has the largest number of job placements at 408, followed by \"Sci&Tech\" with 164 placements. \"Others\" has the least amount of job placements with just 10."
   ]
  },
  {
   "cell_type": "markdown",
   "id": "8675498c",
   "metadata": {},
   "source": [
    "#### 9) Which degree_t is getting low salary?"
   ]
  },
  {
   "cell_type": "code",
   "execution_count": 97,
   "id": "ca826078",
   "metadata": {},
   "outputs": [
    {
     "data": {
      "text/html": [
       "<div>\n",
       "<style scoped>\n",
       "    .dataframe tbody tr th:only-of-type {\n",
       "        vertical-align: middle;\n",
       "    }\n",
       "\n",
       "    .dataframe tbody tr th {\n",
       "        vertical-align: top;\n",
       "    }\n",
       "\n",
       "    .dataframe thead th {\n",
       "        text-align: right;\n",
       "    }\n",
       "</style>\n",
       "<table border=\"1\" class=\"dataframe\">\n",
       "  <thead>\n",
       "    <tr style=\"text-align: right;\">\n",
       "      <th></th>\n",
       "      <th>index</th>\n",
       "      <th>degree_t</th>\n",
       "    </tr>\n",
       "  </thead>\n",
       "  <tbody>\n",
       "    <tr>\n",
       "      <th>0</th>\n",
       "      <td>Comm&amp;Mgmt</td>\n",
       "      <td>172</td>\n",
       "    </tr>\n",
       "    <tr>\n",
       "      <th>1</th>\n",
       "      <td>Sci&amp;Tech</td>\n",
       "      <td>72</td>\n",
       "    </tr>\n",
       "    <tr>\n",
       "      <th>2</th>\n",
       "      <td>Others</td>\n",
       "      <td>12</td>\n",
       "    </tr>\n",
       "  </tbody>\n",
       "</table>\n",
       "</div>"
      ],
      "text/plain": [
       "       index  degree_t\n",
       "0  Comm&Mgmt       172\n",
       "1   Sci&Tech        72\n",
       "2     Others        12"
      ]
     },
     "execution_count": 97,
     "metadata": {},
     "output_type": "execute_result"
    }
   ],
   "source": [
    "# removing the outliers in salary \n",
    "Q1 = df['salary'].quantile(0.25)\n",
    "Q3 = df['salary'].quantile(0.75)\n",
    "IQR = Q3 - Q1    #IQR is interquartile range. \n",
    "\n",
    "filter = (df['salary'] >= Q1 - 1.5 * IQR) & (df['salary'] <= Q3 + 1.5 *IQR)\n",
    "df_filtered=df.loc[filter]\n",
    "\n",
    "\n",
    "#Finding the degree_t with salary below average salary\n",
    "average_salary = df_filtered['salary'].mean()\n",
    "low_salary_degree = df['degree_t'][df['salary'] < average_salary].value_counts()\n",
    "result = low_salary_degree.reset_index()\n",
    "result"
   ]
  },
  {
   "cell_type": "markdown",
   "id": "54395c9c",
   "metadata": {},
   "source": [
    "The table above represents the number of records in the dataset for individuals with a particular degree program - Comm&Mgmt, Sci&Tech, or Others - whose salaries fall below the average salary.\n",
    "\n",
    "The highest number of records, 172, correspond to individuals with a degree in Comm&Mgmt, followed by Sci&Tech with 72 records, and the lowest number of records, 12, correspond to individuals with a degree in Others. These results provide insight into the competitiveness of the job market for individuals with these specific degrees, and can be compared to results for other degree programs. It can be inferred that individuals with a degree in Commerce and Management have lower salaries compared to those with other degrees."
   ]
  },
  {
   "cell_type": "markdown",
   "id": "d60b1305",
   "metadata": {},
   "source": [
    "#### 10) Which degree_t is has low job placement?"
   ]
  },
  {
   "cell_type": "code",
   "execution_count": 98,
   "id": "ffc3d041",
   "metadata": {},
   "outputs": [
    {
     "data": {
      "text/html": [
       "<div>\n",
       "<style scoped>\n",
       "    .dataframe tbody tr th:only-of-type {\n",
       "        vertical-align: middle;\n",
       "    }\n",
       "\n",
       "    .dataframe tbody tr th {\n",
       "        vertical-align: top;\n",
       "    }\n",
       "\n",
       "    .dataframe thead th {\n",
       "        text-align: right;\n",
       "    }\n",
       "</style>\n",
       "<table border=\"1\" class=\"dataframe\">\n",
       "  <thead>\n",
       "    <tr style=\"text-align: right;\">\n",
       "      <th></th>\n",
       "      <th>degree_t</th>\n",
       "      <th>status</th>\n",
       "      <th>count</th>\n",
       "    </tr>\n",
       "  </thead>\n",
       "  <tbody>\n",
       "    <tr>\n",
       "      <th>3</th>\n",
       "      <td>Others</td>\n",
       "      <td>True</td>\n",
       "      <td>12</td>\n",
       "    </tr>\n",
       "    <tr>\n",
       "      <th>5</th>\n",
       "      <td>Sci&amp;Tech</td>\n",
       "      <td>True</td>\n",
       "      <td>76</td>\n",
       "    </tr>\n",
       "    <tr>\n",
       "      <th>1</th>\n",
       "      <td>Comm&amp;Mgmt</td>\n",
       "      <td>True</td>\n",
       "      <td>192</td>\n",
       "    </tr>\n",
       "  </tbody>\n",
       "</table>\n",
       "</div>"
      ],
      "text/plain": [
       "    degree_t  status  count\n",
       "3     Others    True     12\n",
       "5   Sci&Tech    True     76\n",
       "1  Comm&Mgmt    True    192"
      ]
     },
     "execution_count": 98,
     "metadata": {},
     "output_type": "execute_result"
    }
   ],
   "source": [
    "df['status'] = df['salary'] < df['salary'].mean()\n",
    "\n",
    "degree_counts = df.groupby(['degree_t', 'status']).size().reset_index(name='count')\n",
    "degree_counts = degree_counts[degree_counts['status'] == True]\n",
    "\n",
    "degree_counts.sort_values(by='count', ascending=True)"
   ]
  },
  {
   "cell_type": "markdown",
   "id": "261f7d21",
   "metadata": {},
   "source": [
    "12 people have \"Others\" degree and got job placements, 76 with \"Sci&Tech\", 192 with \"Comm&Mgmt\". People with \"Sci&Tech\" degree have higher placement than \"Others\" but lower than \"Comm&Mgmt\". This data can be useful to understand job placement trends."
   ]
  },
  {
   "cell_type": "code",
   "execution_count": null,
   "id": "ae883d3e",
   "metadata": {},
   "outputs": [],
   "source": []
  }
 ],
 "metadata": {
  "kernelspec": {
   "display_name": "Python 3 (ipykernel)",
   "language": "python",
   "name": "python3"
  },
  "language_info": {
   "codemirror_mode": {
    "name": "ipython",
    "version": 3
   },
   "file_extension": ".py",
   "mimetype": "text/x-python",
   "name": "python",
   "nbconvert_exporter": "python",
   "pygments_lexer": "ipython3",
   "version": "3.9.12"
  }
 },
 "nbformat": 4,
 "nbformat_minor": 5
}
